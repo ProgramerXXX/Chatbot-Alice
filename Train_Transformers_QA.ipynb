{
  "cells": [
    {
      "cell_type": "code",
      "execution_count": 1,
      "metadata": {
        "colab": {
          "base_uri": "https://localhost:8080/"
        },
        "id": "zSFq_R2HBcAa",
        "outputId": "c31ba95c-696a-4281-c294-befdf33483e5"
      },
      "outputs": [
        {
          "output_type": "stream",
          "name": "stdout",
          "text": [
            "\u001b[K     |████████████████████████████████| 365 kB 9.7 MB/s \n",
            "\u001b[K     |████████████████████████████████| 8.9 MB 26.8 MB/s \n",
            "\u001b[K     |████████████████████████████████| 2.1 MB 58.5 MB/s \n",
            "\u001b[K     |████████████████████████████████| 394.7 MB 16 kB/s \n",
            "\u001b[K     |████████████████████████████████| 4.6 MB 57.9 MB/s \n",
            "\u001b[K     |████████████████████████████████| 197 kB 89.7 MB/s \n",
            "\u001b[K     |████████████████████████████████| 43 kB 2.5 MB/s \n",
            "\u001b[K     |████████████████████████████████| 1.2 MB 67.0 MB/s \n",
            "\u001b[K     |████████████████████████████████| 965 kB 70.9 MB/s \n",
            "\u001b[K     |████████████████████████████████| 880 kB 82.0 MB/s \n",
            "\u001b[K     |████████████████████████████████| 3.3 MB 53.7 MB/s \n",
            "\u001b[K     |████████████████████████████████| 3.8 MB 62.3 MB/s \n",
            "\u001b[K     |████████████████████████████████| 462 kB 90.9 MB/s \n",
            "\u001b[K     |████████████████████████████████| 14.8 MB 65.6 MB/s \n",
            "\u001b[K     |████████████████████████████████| 132 kB 99.5 MB/s \n",
            "\u001b[K     |████████████████████████████████| 2.9 MB 66.0 MB/s \n",
            "\u001b[K     |████████████████████████████████| 115 kB 73.3 MB/s \n",
            "\u001b[K     |████████████████████████████████| 101 kB 13.1 MB/s \n",
            "\u001b[K     |████████████████████████████████| 212 kB 76.7 MB/s \n",
            "\u001b[K     |████████████████████████████████| 141 kB 92.7 MB/s \n",
            "\u001b[K     |████████████████████████████████| 596 kB 73.8 MB/s \n",
            "\u001b[K     |████████████████████████████████| 127 kB 97.3 MB/s \n",
            "\u001b[K     |████████████████████████████████| 4.9 MB 27.4 MB/s \n",
            "\u001b[K     |████████████████████████████████| 4.9 MB 62.1 MB/s \n",
            "\u001b[K     |████████████████████████████████| 4.9 MB 78.0 MB/s \n",
            "\u001b[K     |████████████████████████████████| 4.9 MB 65.4 MB/s \n",
            "\u001b[K     |████████████████████████████████| 4.4 MB 24.5 MB/s \n",
            "\u001b[K     |████████████████████████████████| 4.3 MB 59.8 MB/s \n",
            "\u001b[K     |████████████████████████████████| 3.4 MB 74.2 MB/s \n",
            "\u001b[?25h  Building wheel for wrapt (setup.py) ... \u001b[?25l\u001b[?25hdone\n",
            "  Building wheel for emoji (setup.py) ... \u001b[?25l\u001b[?25hdone\n",
            "  Building wheel for seqeval (setup.py) ... \u001b[?25l\u001b[?25hdone\n",
            "  Building wheel for sacremoses (setup.py) ... \u001b[?25l\u001b[?25hdone\n",
            "\u001b[31mERROR: pip's dependency resolver does not currently take into account all the packages that are installed. This behaviour is the source of the following dependency conflicts.\n",
            "xarray-einstats 0.2.2 requires numpy>=1.21, but you have numpy 1.19.5 which is incompatible.\n",
            "cmdstanpy 1.0.4 requires numpy>=1.21, but you have numpy 1.19.5 which is incompatible.\u001b[0m\n",
            "\u001b[K\u001b[?25hnpx: installed 1 in 1.568s\n",
            "\u001b[36m> destination directory is not empty. Using --force, continuing\u001b[39m\n",
            "\u001b[36m> cloned \u001b[1mvistec-AI/thai2transformers\u001b[22m#\u001b[1mdev\u001b[22m\u001b[39m\n"
          ]
        }
      ],
      "source": [
        "!pip -q install -Uqq datasets pythainlp==2.2.4 transformers==4.4.0 tensorflow==2.4.0 tensorflow_text emoji seqeval sentencepiece fuzzywuzzy\n",
        "!npx degit --force https://github.com/vistec-AI/thai2transformers#dev"
      ]
    },
    {
      "cell_type": "code",
      "execution_count": 1,
      "metadata": {
        "colab": {
          "base_uri": "https://localhost:8080/"
        },
        "id": "MQYBVDBaCT1O",
        "outputId": "d79a83f3-477f-4826-a857-473cb1a21511"
      },
      "outputs": [
        {
          "output_type": "execute_result",
          "data": {
            "text/plain": [
              "('2.2.4', '4.4.0')"
            ]
          },
          "metadata": {},
          "execution_count": 1
        }
      ],
      "source": [
        "%load_ext autoreload\n",
        "%autoreload 2\n",
        "\n",
        "import pythainlp, transformers\n",
        "pythainlp.__version__, transformers.__version__ #fix pythainlp to stabilize word tokenization for metrics"
      ]
    },
    {
      "cell_type": "code",
      "execution_count": 2,
      "metadata": {
        "id": "3x6r23p_CV-G"
      },
      "outputs": [],
      "source": [
        "import collections\n",
        "import logging\n",
        "import pprint\n",
        "import re\n",
        "from tqdm.auto import tqdm\n",
        "\n",
        "import numpy as np\n",
        "import torch\n",
        "\n",
        "#datasets\n",
        "from datasets import (\n",
        "    load_dataset, \n",
        "    load_metric, \n",
        "    concatenate_datasets,\n",
        "    load_from_disk,\n",
        ")\n",
        "\n",
        "#transformers\n",
        "from transformers import (\n",
        "    AutoConfig,\n",
        "    AutoTokenizer,\n",
        "    AutoModelForQuestionAnswering,\n",
        "    TrainingArguments,\n",
        "    Trainer,\n",
        "    default_data_collator,\n",
        ")\n",
        "\n",
        "#thai2transformers\n",
        "import thai2transformers\n",
        "from thai2transformers.metrics import (\n",
        "    squad_newmm_metric,\n",
        "    question_answering_metrics,\n",
        ")\n",
        "from thai2transformers.preprocess import (\n",
        "    prepare_qa_train_features\n",
        ")\n",
        "from thai2transformers.tokenizers import (\n",
        "    ThaiRobertaTokenizer,\n",
        "    ThaiWordsNewmmTokenizer,\n",
        "    ThaiWordsSyllableTokenizer,\n",
        "    FakeSefrCutTokenizer,\n",
        "    SEFR_SPLIT_TOKEN\n",
        ")"
      ]
    },
    {
      "cell_type": "code",
      "execution_count": 3,
      "metadata": {
        "id": "uZLaIa8fCYnD"
      },
      "outputs": [],
      "source": [
        "model_names = [\n",
        "    'wangchanberta-base-att-spm-uncased',\n",
        "    'xlm-roberta-base',\n",
        "    'bert-base-multilingual-cased',\n",
        "    'wangchanberta-base-wiki-newmm',\n",
        "    'wangchanberta-base-wiki-ssg',\n",
        "    'wangchanberta-base-wiki-sefr',\n",
        "    'wangchanberta-base-wiki-spm',\n",
        "]\n",
        "\n",
        "tokenizers = {\n",
        "    'wangchanberta-base-att-spm-uncased': AutoTokenizer,\n",
        "    'xlm-roberta-base': AutoTokenizer,\n",
        "    'bert-base-multilingual-cased': AutoTokenizer,\n",
        "    'wangchanberta-base-wiki-newmm': ThaiWordsNewmmTokenizer,\n",
        "    'wangchanberta-base-wiki-ssg': ThaiWordsSyllableTokenizer,\n",
        "    'wangchanberta-base-wiki-sefr': FakeSefrCutTokenizer,\n",
        "    'wangchanberta-base-wiki-spm': ThaiRobertaTokenizer,\n",
        "    \n",
        "}\n",
        "public_models = ['xlm-roberta-base', 'bert-base-multilingual-cased'] \n",
        "#@title Choose Pretrained Model\n",
        "model_name = \"xlm-roberta-base\" #@param [\"wangchanberta-base-att-spm-uncased\", \"xlm-roberta-base\", \"bert-base-multilingual-cased\", \"wangchanberta-base-wiki-newmm\", \"wangchanberta-base-wiki-syllable\", \"wangchanberta-base-wiki-sefr\", \"wangchanberta-base-wiki-spm\"]\n",
        "\n",
        "#create tokenizer\n",
        "tokenizer = tokenizers[model_name].from_pretrained(\n",
        "                f'airesearch/{model_name}' if model_name not in public_models else f'{model_name}',\n",
        "                revision='main',\n",
        "                model_max_length=416,)"
      ]
    },
    {
      "cell_type": "code",
      "execution_count": 4,
      "metadata": {
        "id": "0UoD3BQMCaWp"
      },
      "outputs": [],
      "source": [
        "#parameterizing columns\n",
        "CONTEXT_COL = 'context'\n",
        "QUESTION_COL = 'question'\n",
        "ANSWERS_COL = 'answers'\n",
        "TEXT_COL = 'answer'\n",
        "START_COL = 'answer_begin_position'\n",
        "END_COL = 'answer_end_position'\n",
        "QUESTION_ID_COL = 'question_id'"
      ]
    },
    {
      "cell_type": "code",
      "execution_count": 5,
      "metadata": {
        "colab": {
          "base_uri": "https://localhost:8080/",
          "height": 66,
          "referenced_widgets": [
            "b4aa87cfed0247f4850ce150598d3660",
            "40e3bfcdf6d74ecea878b40389536807",
            "781bf3ae237844759664a57f8320ddc2",
            "8aa9086acd8b49dbbcb1cbb3dfb2da68",
            "93f795a3b0254545acdb76623d29b8e1",
            "1c98982f4ec144ff9ae6d70c79fb0204",
            "e0f9c652adba426fb4154351cad2aafa",
            "c9b6b258075d43cca23d3a28f5d58bee",
            "5c2ef2bea09946bb8a91b84e336316d2",
            "9b2859770f6e47c7adbcf2bbb0291696",
            "d535d4c8a5d944d49bee1b8d1fcb44a6"
          ]
        },
        "id": "w42L5QciCddc",
        "outputId": "3f22b11e-8be3-4270-8ef9-b64ef9fd7fe2"
      },
      "outputs": [
        {
          "output_type": "stream",
          "name": "stderr",
          "text": [
            "Reusing dataset thaiqa_squad (/root/.cache/huggingface/datasets/thaiqa_squad/thaiqa_squad/1.0.0/fce14864b511d48464540780f328f4b415746b63f2fd934ad0b06c3eead7787b)\n"
          ]
        },
        {
          "output_type": "display_data",
          "data": {
            "text/plain": [
              "  0%|          | 0/2 [00:00<?, ?it/s]"
            ],
            "application/vnd.jupyter.widget-view+json": {
              "version_major": 2,
              "version_minor": 0,
              "model_id": "b4aa87cfed0247f4850ce150598d3660"
            }
          },
          "metadata": {}
        }
      ],
      "source": [
        "from datasets import load_dataset\n",
        "thaiqa_ = load_dataset('thaiqa_squad')"
      ]
    },
    {
      "cell_type": "code",
      "execution_count": 6,
      "metadata": {
        "id": "x0fTa7A7C2PL"
      },
      "outputs": [],
      "source": [
        "from lxml import etree\n",
        "parser = etree.XMLParser(recover=True)\n",
        "def extract_text(body):\n",
        "  tree = etree.fromstring(body, parser=parser)\n",
        "  return tree.text"
      ]
    },
    {
      "cell_type": "code",
      "execution_count": 7,
      "metadata": {
        "colab": {
          "base_uri": "https://localhost:8080/",
          "height": 122
        },
        "id": "RT9l-0MUIsqr",
        "outputId": "c8462d68-a3bc-47cc-c4e9-5b0fbf620365"
      },
      "outputs": [
        {
          "output_type": "execute_result",
          "data": {
            "text/plain": [
              "\"เบนจี้ เบนจี้ () เป็นชื่อตัวละครหมาพันทางแสนรู้ ที่ปรากฏอยู่ในภาพยนตร์หลายเรื่องที่เขียนบท และกำกับโดย โจ แคมป์ ในช่วงทศวรรษ 1970 ถึง 1980 ภาพยนตร์เรื่องแรกในชุด ใช้ชื่อเรื่องว่า เบนจี้ เช่นเดียวกับตัวละคร ถ่ายทำที่เมืองดัลลัส รัฐเทกซัส ฉายครั้งแรกในปี พ.ศ. 2517 ภาพยนตร์ได้รับการเสนอชื่อเข้าชิงรางวัลออสการ์ และได้รางวัลลูกโลกทองคำ สาขาเพลงประกอบยอดเยี่ยม จากเพลง Benji's Theme (I Feel Love) ร้องโดย ชาร์ลี ริช หมาที่แสดงเป็นเบนจี้ตัวแรก ชื่อว่า ฮิกกิ้นส์ (พ.ศ. 2502 - พ.ศ. 2518) มีอายุถึง 15 ปีแล้วในขณะแสดง หลังจากภาพยนตร์ออกฉายได้ไม่นาน มันก็ตายในปี พ.ศ. 2518เบนจี้ในภาพยนตร์เบนจี้ในภาพยนตร์. - พ.ศ. 2517, Benji (ภาพยนตร์) - พ.ศ. 2520, For the Love of Benji (ภาพยนตร์) - พ.ศ. 2521, Benji's Very Own Christmas Story (ภาพยนตร์โทรทัศน์) - พ.ศ. 2523, Oh Heavenly Dog (ภาพยนตร์) - พ.ศ. 2523, Benji at Work (ภาพยนตร์โทรทัศน์) - พ.ศ. 2524, Benji Takes a Dive at Marineland (ภาพยนตร์โทรทัศน์) - พ.ศ. 2526, Benji, Zax  the Alien Prince (ภาพยนตร์ซีรีส์) - พ.ศ. 2530, Benji the Hunted (ภาพยนตร์) - พ.ศ. 2547, Benji: Off the Leash! (ภาพยนตร์) - พ.ศ. 2550, Benji: The Barkening (ภาพยนตร์)\""
            ],
            "application/vnd.google.colaboratory.intrinsic+json": {
              "type": "string"
            }
          },
          "metadata": {},
          "execution_count": 7
        }
      ],
      "source": [
        "map_object = map(extract_text, thaiqa_['train']['context'])\n",
        "new_context = list(map_object)\n",
        "new_context[0]"
      ]
    },
    {
      "cell_type": "code",
      "execution_count": 8,
      "metadata": {
        "colab": {
          "base_uri": "https://localhost:8080/",
          "height": 35
        },
        "id": "LxYiXbENR8Yd",
        "outputId": "cf65d081-158c-479e-e83d-b31938d17974"
      },
      "outputs": [
        {
          "output_type": "execute_result",
          "data": {
            "text/plain": [
              "'สุนัขตัวแรกรับบทเป็นเบนจี้ในภาพยนตร์เรื่อง Benji ที่ออกฉายในปี พ.ศ. 2517 มีชื่อว่าอะไร'"
            ],
            "application/vnd.google.colaboratory.intrinsic+json": {
              "type": "string"
            }
          },
          "metadata": {},
          "execution_count": 8
        }
      ],
      "source": [
        "new_question = list(thaiqa_['train']['question'])\n",
        "new_question[0]"
      ]
    },
    {
      "cell_type": "code",
      "execution_count": 9,
      "metadata": {
        "colab": {
          "base_uri": "https://localhost:8080/",
          "height": 35
        },
        "id": "256hRYt0SVe9",
        "outputId": "3768eb67-9874-4a71-82b3-e009bbc7f15b"
      },
      "outputs": [
        {
          "output_type": "execute_result",
          "data": {
            "text/plain": [
              "'สุนัขตัวแรกรับบทเป็นเบนจี้ในภาพยนตร์เรื่องBenjiที่ออกฉายในปีพ.ศ.2517มีชื่อว่าอะไร'"
            ],
            "application/vnd.google.colaboratory.intrinsic+json": {
              "type": "string"
            }
          },
          "metadata": {},
          "execution_count": 9
        }
      ],
      "source": [
        "for i in range(len(new_question)):\n",
        "  new_question[i] = new_question[i].replace(' ','')\n",
        "new_question[0]"
      ]
    },
    {
      "cell_type": "code",
      "execution_count": 10,
      "metadata": {
        "colab": {
          "base_uri": "https://localhost:8080/",
          "height": 122
        },
        "id": "mYI3pm9RFRgF",
        "outputId": "02a53f2b-b112-457b-a878-bd5eadf751d4"
      },
      "outputs": [
        {
          "output_type": "execute_result",
          "data": {
            "text/plain": [
              "\"เบนจี้เบนจี้()เป็นชื่อตัวละครหมาพันทางแสนรู้ที่ปรากฏอยู่ในภาพยนตร์หลายเรื่องที่เขียนบทและกำกับโดยโจแคมป์ในช่วงทศวรรษ1970ถึง1980ภาพยนตร์เรื่องแรกในชุดใช้ชื่อเรื่องว่าเบนจี้เช่นเดียวกับตัวละครถ่ายทำที่เมืองดัลลัสรัฐเทกซัสฉายครั้งแรกในปีพ.ศ.2517ภาพยนตร์ได้รับการเสนอชื่อเข้าชิงรางวัลออสการ์และได้รางวัลลูกโลกทองคำสาขาเพลงประกอบยอดเยี่ยมจากเพลงBenji'sTheme(IFeelLove)ร้องโดยชาร์ลีริชหมาที่แสดงเป็นเบนจี้ตัวแรกชื่อว่าฮิกกิ้นส์(พ.ศ.2502-พ.ศ.2518)มีอายุถึง15ปีแล้วในขณะแสดงหลังจากภาพยนตร์ออกฉายได้ไม่นานมันก็ตายในปีพ.ศ.2518เบนจี้ในภาพยนตร์เบนจี้ในภาพยนตร์.-พ.ศ.2517,Benji(ภาพยนตร์)-พ.ศ.2520,FortheLoveofBenji(ภาพยนตร์)-พ.ศ.2521,Benji'sVeryOwnChristmasStory(ภาพยนตร์โทรทัศน์)-พ.ศ.2523,OhHeavenlyDog(ภาพยนตร์)-พ.ศ.2523,BenjiatWork(ภาพยนตร์โทรทัศน์)-พ.ศ.2524,BenjiTakesaDiveatMarineland(ภาพยนตร์โทรทัศน์)-พ.ศ.2526,Benji,ZaxtheAlienPrince(ภาพยนตร์ซีรีส์)-พ.ศ.2530,BenjitheHunted(ภาพยนตร์)-พ.ศ.2547,Benji:OfftheLeash!(ภาพยนตร์)-พ.ศ.2550,Benji:TheBarkening(ภาพยนตร์)\""
            ],
            "application/vnd.google.colaboratory.intrinsic+json": {
              "type": "string"
            }
          },
          "metadata": {},
          "execution_count": 10
        }
      ],
      "source": [
        "for i in range(len(new_context)):\n",
        "  new_context[i] = new_context[i].replace(' ','')\n",
        "new_context[0]"
      ]
    },
    {
      "cell_type": "code",
      "execution_count": 11,
      "metadata": {
        "colab": {
          "base_uri": "https://localhost:8080/",
          "height": 122
        },
        "id": "hHymfKq-Shp1",
        "outputId": "4f223efa-fb42-40fd-c028-11b76c9d0ce1"
      },
      "outputs": [
        {
          "output_type": "execute_result",
          "data": {
            "text/plain": [
              "'<doc id=\"115035\" url=\"https://th.wikipedia.org/wiki?curid=115035\" title=\"เบนจี้\">เบนจี้ เบนจี้ () เป็นชื่อตัวละครหมาพันทางแสนรู้ ที่ปรากฏอยู่ในภาพยนตร์หลายเรื่องที่เขียนบท และกำกับโดย โจ แคมป์ ในช่วงทศวรรษ 1970 ถึง 1980 ภาพยนตร์เรื่องแรกในชุด ใช้ชื่อเรื่องว่า เบนจี้ เช่นเดียวกับตัวละคร ถ่ายทำที่เมืองดัลลัส รัฐเทกซัส ฉายครั้งแรกในปี พ.ศ. 2517 ภาพยนตร์ได้รับการเสนอชื่อเข้าชิงรางวัลออสการ์ และได้รางวัลลูกโลกทองคำ สาขาเพลงประกอบยอดเยี่ยม จากเพลง Benji\\'s Theme (I Feel Love) ร้องโดย ชาร์ลี ริช หมาที่แสดงเป็นเบนจี้ตัวแรก ชื่อว่า ฮิกกิ้นส์ (พ.ศ. 2502 - พ.ศ. 2518) มีอายุถึง 15 ปีแล้วในขณะแสดง หลังจากภาพยนตร์ออกฉายได้ไม่นาน มันก็ตายในปี พ.ศ. 2518เบนจี้ในภาพยนตร์เบนจี้ในภาพยนตร์. - พ.ศ. 2517, Benji (ภาพยนตร์) - พ.ศ. 2520, For the Love of Benji (ภาพยนตร์) - พ.ศ. 2521, Benji\\'s Very Own Christmas Story (ภาพยนตร์โทรทัศน์) - พ.ศ. 2523, Oh Heavenly Dog (ภาพยนตร์) - พ.ศ. 2523, Benji at Work (ภาพยนตร์โทรทัศน์) - พ.ศ. 2524, Benji Takes a Dive at Marineland (ภาพยนตร์โทรทัศน์) - พ.ศ. 2526, Benji, Zax & the Alien Prince (ภาพยนตร์ซีรีส์) - พ.ศ. 2530, Benji the Hunted (ภาพยนตร์) - พ.ศ. 2547, Benji: Off the Leash! (ภาพยนตร์) - พ.ศ. 2550, Benji: The Barkening (ภาพยนตร์)</doc>\\n'"
            ],
            "application/vnd.google.colaboratory.intrinsic+json": {
              "type": "string"
            }
          },
          "metadata": {},
          "execution_count": 11
        }
      ],
      "source": [
        "thaiqa_['train']['context'][0]"
      ]
    },
    {
      "cell_type": "code",
      "execution_count": 12,
      "metadata": {
        "colab": {
          "base_uri": "https://localhost:8080/",
          "height": 122
        },
        "id": "pQUdkRmoK8KV",
        "outputId": "c8e726c2-6af6-4bdc-84d2-0e918dc8f7b3"
      },
      "outputs": [
        {
          "output_type": "execute_result",
          "data": {
            "text/plain": [
              "\"เบนจี้เบนจี้()เป็นชื่อตัวละครหมาพันทางแสนรู้ที่ปรากฏอยู่ในภาพยนตร์หลายเรื่องที่เขียนบทและกำกับโดยโจแคมป์ในช่วงทศวรรษ1970ถึง1980ภาพยนตร์เรื่องแรกในชุดใช้ชื่อเรื่องว่าเบนจี้เช่นเดียวกับตัวละครถ่ายทำที่เมืองดัลลัสรัฐเทกซัสฉายครั้งแรกในปีพ.ศ.2517ภาพยนตร์ได้รับการเสนอชื่อเข้าชิงรางวัลออสการ์และได้รางวัลลูกโลกทองคำสาขาเพลงประกอบยอดเยี่ยมจากเพลงBenji'sTheme(IFeelLove)ร้องโดยชาร์ลีริชหมาที่แสดงเป็นเบนจี้ตัวแรกชื่อว่าฮิกกิ้นส์(พ.ศ.2502-พ.ศ.2518)มีอายุถึง15ปีแล้วในขณะแสดงหลังจากภาพยนตร์ออกฉายได้ไม่นานมันก็ตายในปีพ.ศ.2518เบนจี้ในภาพยนตร์เบนจี้ในภาพยนตร์.-พ.ศ.2517,Benji(ภาพยนตร์)-พ.ศ.2520,FortheLoveofBenji(ภาพยนตร์)-พ.ศ.2521,Benji'sVeryOwnChristmasStory(ภาพยนตร์โทรทัศน์)-พ.ศ.2523,OhHeavenlyDog(ภาพยนตร์)-พ.ศ.2523,BenjiatWork(ภาพยนตร์โทรทัศน์)-พ.ศ.2524,BenjiTakesaDiveatMarineland(ภาพยนตร์โทรทัศน์)-พ.ศ.2526,Benji,ZaxtheAlienPrince(ภาพยนตร์ซีรีส์)-พ.ศ.2530,BenjitheHunted(ภาพยนตร์)-พ.ศ.2547,Benji:OfftheLeash!(ภาพยนตร์)-พ.ศ.2550,Benji:TheBarkening(ภาพยนตร์)\""
            ],
            "application/vnd.google.colaboratory.intrinsic+json": {
              "type": "string"
            }
          },
          "metadata": {},
          "execution_count": 12
        }
      ],
      "source": [
        "new_context[0]"
      ]
    },
    {
      "cell_type": "code",
      "execution_count": null,
      "metadata": {
        "id": "T1ByOS6eJsae"
      },
      "outputs": [],
      "source": [
        "answer_start = []\n",
        "for i in range(len(thaiqa_['train']['answers'])):\n",
        "  answer_start.append(new_context[i].find(thaiqa_['train']['answers'][i]['answer'][0]))\n",
        "\n",
        "answer_start"
      ]
    },
    {
      "cell_type": "code",
      "execution_count": 14,
      "metadata": {
        "colab": {
          "base_uri": "https://localhost:8080/"
        },
        "id": "cH3eQ1ZrTxHW",
        "outputId": "ca68148d-1aad-4460-87da-349472ba2937"
      },
      "outputs": [
        {
          "output_type": "execute_result",
          "data": {
            "text/plain": [
              "412"
            ]
          },
          "metadata": {},
          "execution_count": 14
        }
      ],
      "source": [
        "answer_start[0]"
      ]
    },
    {
      "cell_type": "code",
      "execution_count": 15,
      "metadata": {
        "colab": {
          "base_uri": "https://localhost:8080/"
        },
        "id": "qrISCJimT0E0",
        "outputId": "7a904ce9-5bd7-451e-ee54-b6f2a3ef6d7f"
      },
      "outputs": [
        {
          "output_type": "execute_result",
          "data": {
            "text/plain": [
              "['ฮิกกิ้นส์']"
            ]
          },
          "metadata": {},
          "execution_count": 15
        }
      ],
      "source": [
        "thaiqa_['train']['answers'][0]['answer']"
      ]
    },
    {
      "cell_type": "code",
      "execution_count": 16,
      "metadata": {
        "colab": {
          "base_uri": "https://localhost:8080/",
          "height": 87
        },
        "id": "fcSj2650UmIu",
        "outputId": "285bef42-56de-4fb1-a3c5-c0b73157e258"
      },
      "outputs": [
        {
          "output_type": "execute_result",
          "data": {
            "text/plain": [
              "\"ฮิกกิ้นส์(พ.ศ.2502-พ.ศ.2518)มีอายุถึง15ปีแล้วในขณะแสดงหลังจากภาพยนตร์ออกฉายได้ไม่นานมันก็ตายในปีพ.ศ.2518เบนจี้ในภาพยนตร์เบนจี้ในภาพยนตร์.-พ.ศ.2517,Benji(ภาพยนตร์)-พ.ศ.2520,FortheLoveofBenji(ภาพยนตร์)-พ.ศ.2521,Benji'sVeryOwnChristmasStory(ภาพยนตร์โทรทัศน์)-พ.ศ.2523,OhHeavenlyDog(ภาพยนตร์)-พ.ศ.2523,BenjiatWork(ภาพยนตร์โทรทัศน์)-พ.ศ.2524,BenjiTakesaDiveatMarineland(ภาพยนตร์โทรทัศน์)-พ.ศ.2526,Benji,ZaxtheAlienPrince(ภาพยนตร์ซีรีส์)-พ.ศ.2530,BenjitheHunted(ภาพยนตร์)-พ.ศ.2547,Benji:OfftheLeash!(ภาพยนตร์)-พ.ศ.2550,Benji:TheBarkening(ภาพยนตร์)\""
            ],
            "application/vnd.google.colaboratory.intrinsic+json": {
              "type": "string"
            }
          },
          "metadata": {},
          "execution_count": 16
        }
      ],
      "source": [
        "new_context[0][412:]"
      ]
    },
    {
      "cell_type": "code",
      "execution_count": 17,
      "metadata": {
        "colab": {
          "base_uri": "https://localhost:8080/",
          "height": 87
        },
        "id": "esDz8TWZUbKv",
        "outputId": "8a2127b8-1e88-44e6-9716-010e2dcb59a8"
      },
      "outputs": [
        {
          "output_type": "execute_result",
          "data": {
            "text/plain": [
              "\"ฮิกกิ้นส์(พ.ศ.2502-พ.ศ.2518)มีอายุถึง15ปีแล้วในขณะแสดงหลังจากภาพยนตร์ออกฉายได้ไม่นานมันก็ตายในปีพ.ศ.2518เบนจี้ในภาพยนตร์เบนจี้ในภาพยนตร์.-พ.ศ.2517,Benji(ภาพยนตร์)-พ.ศ.2520,FortheLoveofBenji(ภาพยนตร์)-พ.ศ.2521,Benji'sVeryOwnChristmasStory(ภาพยนตร์โทรทัศน์)-พ.ศ.2523,OhHeavenlyDog(ภาพยนตร์)-พ.ศ.2523,BenjiatWork(ภาพยนตร์โทรทัศน์)-พ.ศ.2524,BenjiTakesaDiveatMarineland(ภาพยนตร์โทรทัศน์)-พ.ศ.2526,Benji,ZaxtheAlienPrince(ภาพยนตร์ซีรีส์)-พ.ศ.2530,BenjitheHunted(ภาพยนตร์)-พ.ศ.2547,Benji:OfftheLeash!(ภาพยนตร์)-พ.ศ.2550,Benji:TheBarkening(ภาพยนตร์)\""
            ],
            "application/vnd.google.colaboratory.intrinsic+json": {
              "type": "string"
            }
          },
          "metadata": {},
          "execution_count": 17
        }
      ],
      "source": [
        "new_context[0][412:]"
      ]
    },
    {
      "cell_type": "code",
      "execution_count": 19,
      "metadata": {
        "colab": {
          "base_uri": "https://localhost:8080/",
          "height": 122
        },
        "id": "0wcDz2plJkcm",
        "outputId": "c625ef1e-3f84-47ee-fb77-437c4111db8d"
      },
      "outputs": [
        {
          "output_type": "execute_result",
          "data": {
            "text/plain": [
              "\"<s> สุนัขตัวแรกรับบทเป็นเบนจี้ในภาพยนตร์เรื่อง Benji ที่ออกฉายในปี พ.ศ. 2517 มีชื่อว่าอะไร</s></s> เบนจี้เบนจี้()เป็นชื่อตัวละครหมาพันทางแสนรู้ที่ปรากฏอยู่ในภาพยนตร์หลายเรื่องที่เขียนบทและกํากับโดยโจแคมป์ในช่วงทศวรรษ1970ถึง1980ภาพยนตร์เรื่องแรกในชุดใช้ชื่อเรื่องว่าเบนจี้เช่นเดียวกับตัวละครถ่ายทําที่เมืองดัลลัสรัฐเทกซัสฉายครั้งแรกในปีพ.ศ.2517ภาพยนตร์ได้รับการเสนอชื่อเข้าชิงรางวัลออสการ์และได้รางวัลลูกโลกทองคําสาขาเพลงประกอบยอดเยี่ยมจากเพลงBenji'sTheme(IFeelLove)ร้องโดยชาร์ลีริชหมาที่แสดงเป็นเบนจี้ตัวแรกชื่อว่าฮิกกิ้นส์(พ.ศ.2502-พ.ศ.2518)มีอายุถึง15ปีแล้วในขณะแสดงหลังจากภาพยนตร์ออกฉายได้ไม่นานมันก็ตายในปีพ.ศ.2518เบนจี้ในภาพยนตร์เบนจี้ในภาพยนตร์.-พ.ศ.2517,Benji(ภาพยนตร์)-พ.ศ.2520,FortheLoveofBenji(ภาพยนตร์)-พ.ศ.2521,Benji'sVeryOwnChristmasStory(ภาพยนตร์โทรทัศน์)-พ.ศ.2523,OhHeavenlyDog(ภาพยนตร์)-พ.ศ.2523,BenjiatWork(ภาพยนตร์โทรทัศน์)-พ.ศ.2524,BenjiTakesaDiveatMarineland(ภาพยนตร์โทรทัศน์)-พ.ศ.2526,Benji,ZaxtheAlienPrince(ภาพยนตร์ซีรีส์)-พ.ศ.2530,BenjitheHunted(ภาพยนตร์)-พ.ศ.2547,Benji:OfftheLeash!(ภาพยนตร์)-พ.ศ.2550,Benji:TheBarkening(ภาพยนตร์)</s>\""
            ],
            "application/vnd.google.colaboratory.intrinsic+json": {
              "type": "string"
            }
          },
          "metadata": {},
          "execution_count": 19
        }
      ],
      "source": [
        "context = new_context[0]\n",
        "question = thaiqa_[\"train\"][0][\"question\"]\n",
        "\n",
        "inputs = tokenizer(question, context)\n",
        "tokenizer.decode(inputs[\"input_ids\"])"
      ]
    },
    {
      "cell_type": "code",
      "execution_count": 20,
      "metadata": {
        "colab": {
          "base_uri": "https://localhost:8080/"
        },
        "id": "MVb2z_ZxKRNC",
        "outputId": "987c6f21-b703-416f-fc30-aeac8d010f78"
      },
      "outputs": [
        {
          "output_type": "stream",
          "name": "stdout",
          "text": [
            "<s> สุนัขตัวแรกรับบทเป็นเบนจี้ในภาพยนตร์เรื่อง Benji ที่ออกฉายในปี พ.ศ. 2517 มีชื่อว่าอะไร</s></s> เบนจี้เบนจี้()เป็นชื่อตัวละครหมาพันทางแสนรู้ที่ปรากฏอยู่ในภาพยนตร์หลายเรื่องที่เขียนบทและกํากับโดยโจแคมป์ในช่วงทศวรรษ1970ถึง1980ภาพยนตร์เรื่องแรกในชุดใช้ชื่อเรื่องว่าเบนจี้เช่นเดียวกับตัวละครถ่ายทําที่เมืองดัลลัสรัฐเทก</s>\n",
            "<s> สุนัขตัวแรกรับบทเป็นเบนจี้ในภาพยนตร์เรื่อง Benji ที่ออกฉายในปี พ.ศ. 2517 มีชื่อว่าอะไร</s></s>ปรากฏอยู่ในภาพยนตร์หลายเรื่องที่เขียนบทและกํากับโดยโจแคมป์ในช่วงทศวรรษ1970ถึง1980ภาพยนตร์เรื่องแรกในชุดใช้ชื่อเรื่องว่าเบนจี้เช่นเดียวกับตัวละครถ่ายทําที่เมืองดัลลัสรัฐเทกซัสฉายครั้งแรกในปีพ.ศ.2517ภาพยนตร์ได้รับการเสนอชื่อเข้าชิงรางวัล</s>\n",
            "<s> สุนัขตัวแรกรับบทเป็นเบนจี้ในภาพยนตร์เรื่อง Benji ที่ออกฉายในปี พ.ศ. 2517 มีชื่อว่าอะไร</s></s>รรษ1970ถึง1980ภาพยนตร์เรื่องแรกในชุดใช้ชื่อเรื่องว่าเบนจี้เช่นเดียวกับตัวละครถ่ายทําที่เมืองดัลลัสรัฐเทกซัสฉายครั้งแรกในปีพ.ศ.2517ภาพยนตร์ได้รับการเสนอชื่อเข้าชิงรางวัลออสการ์และได้รางวัลลูกโลกทองคําสาขาเพลงประกอบยอดเยี่ยมจากเพลงBenji'</s>\n",
            "<s> สุนัขตัวแรกรับบทเป็นเบนจี้ในภาพยนตร์เรื่อง Benji ที่ออกฉายในปี พ.ศ. 2517 มีชื่อว่าอะไร</s></s>เดียวกับตัวละครถ่ายทําที่เมืองดัลลัสรัฐเทกซัสฉายครั้งแรกในปีพ.ศ.2517ภาพยนตร์ได้รับการเสนอชื่อเข้าชิงรางวัลออสการ์และได้รางวัลลูกโลกทองคําสาขาเพลงประกอบยอดเยี่ยมจากเพลงBenji'sTheme(IFeelLove)ร้องโดยชาร์ลีริชหมาที่แสดง</s>\n",
            "<s> สุนัขตัวแรกรับบทเป็นเบนจี้ในภาพยนตร์เรื่อง Benji ที่ออกฉายในปี พ.ศ. 2517 มีชื่อว่าอะไร</s></s>ในปีพ.ศ.2517ภาพยนตร์ได้รับการเสนอชื่อเข้าชิงรางวัลออสการ์และได้รางวัลลูกโลกทองคําสาขาเพลงประกอบยอดเยี่ยมจากเพลงBenji'sTheme(IFeelLove)ร้องโดยชาร์ลีริชหมาที่แสดงเป็นเบนจี้ตัวแรกชื่อว่าฮิกกิ้นส์(พ.ศ.2502-</s>\n",
            "<s> สุนัขตัวแรกรับบทเป็นเบนจี้ในภาพยนตร์เรื่อง Benji ที่ออกฉายในปี พ.ศ. 2517 มีชื่อว่าอะไร</s></s>ได้รางวัลลูกโลกทองคําสาขาเพลงประกอบยอดเยี่ยมจากเพลงBenji'sTheme(IFeelLove)ร้องโดยชาร์ลีริชหมาที่แสดงเป็นเบนจี้ตัวแรกชื่อว่าฮิกกิ้นส์(พ.ศ.2502-พ.ศ.2518)มีอายุถึง15ปีแล้วในขณะแสดงหลังจากภาพยนตร์ออกฉาย</s>\n",
            "<s> สุนัขตัวแรกรับบทเป็นเบนจี้ในภาพยนตร์เรื่อง Benji ที่ออกฉายในปี พ.ศ. 2517 มีชื่อว่าอะไร</s></s>IFeelLove)ร้องโดยชาร์ลีริชหมาที่แสดงเป็นเบนจี้ตัวแรกชื่อว่าฮิกกิ้นส์(พ.ศ.2502-พ.ศ.2518)มีอายุถึง15ปีแล้วในขณะแสดงหลังจากภาพยนตร์ออกฉายได้ไม่นานมันก็ตายในปีพ.ศ.2518เบนจี้ในภาพยนตร์เบน</s>\n",
            "<s> สุนัขตัวแรกรับบทเป็นเบนจี้ในภาพยนตร์เรื่อง Benji ที่ออกฉายในปี พ.ศ. 2517 มีชื่อว่าอะไร</s></s>ตัวแรกชื่อว่าฮิกกิ้นส์(พ.ศ.2502-พ.ศ.2518)มีอายุถึง15ปีแล้วในขณะแสดงหลังจากภาพยนตร์ออกฉายได้ไม่นานมันก็ตายในปีพ.ศ.2518เบนจี้ในภาพยนตร์เบนจี้ในภาพยนตร์.-พ.ศ.2517,Benji(ภาพยนตร์)</s>\n",
            "<s> สุนัขตัวแรกรับบทเป็นเบนจี้ในภาพยนตร์เรื่อง Benji ที่ออกฉายในปี พ.ศ. 2517 มีชื่อว่าอะไร</s></s>2518)มีอายุถึง15ปีแล้วในขณะแสดงหลังจากภาพยนตร์ออกฉายได้ไม่นานมันก็ตายในปีพ.ศ.2518เบนจี้ในภาพยนตร์เบนจี้ในภาพยนตร์.-พ.ศ.2517,Benji(ภาพยนตร์)-พ.ศ.2520,FortheLoveofBenji(ภาพยนตร์)-</s>\n",
            "<s> สุนัขตัวแรกรับบทเป็นเบนจี้ในภาพยนตร์เรื่อง Benji ที่ออกฉายในปี พ.ศ. 2517 มีชื่อว่าอะไร</s></s>ตายในปีพ.ศ.2518เบนจี้ในภาพยนตร์เบนจี้ในภาพยนตร์.-พ.ศ.2517,Benji(ภาพยนตร์)-พ.ศ.2520,FortheLoveofBenji(ภาพยนตร์)-พ.ศ.2521,Benji'sVeryOwnChristmasS</s>\n",
            "<s> สุนัขตัวแรกรับบทเป็นเบนจี้ในภาพยนตร์เรื่อง Benji ที่ออกฉายในปี พ.ศ. 2517 มีชื่อว่าอะไร</s></s>.-พ.ศ.2517,Benji(ภาพยนตร์)-พ.ศ.2520,FortheLoveofBenji(ภาพยนตร์)-พ.ศ.2521,Benji'sVeryOwnChristmasStory(ภาพยนตร์โทรทัศน์)-พ.ศ.2523,OhHeavenly</s>\n",
            "<s> สุนัขตัวแรกรับบทเป็นเบนจี้ในภาพยนตร์เรื่อง Benji ที่ออกฉายในปี พ.ศ. 2517 มีชื่อว่าอะไร</s></s>.2520,FortheLoveofBenji(ภาพยนตร์)-พ.ศ.2521,Benji'sVeryOwnChristmasStory(ภาพยนตร์โทรทัศน์)-พ.ศ.2523,OhHeavenlyDog(ภาพยนตร์)-พ.ศ.2523,BenjiatWork(</s>\n",
            "<s> สุนัขตัวแรกรับบทเป็นเบนจี้ในภาพยนตร์เรื่อง Benji ที่ออกฉายในปี พ.ศ. 2517 มีชื่อว่าอะไร</s></s>2521,Benji'sVeryOwnChristmasStory(ภาพยนตร์โทรทัศน์)-พ.ศ.2523,OhHeavenlyDog(ภาพยนตร์)-พ.ศ.2523,BenjiatWork(ภาพยนตร์โทรทัศน์)-พ.ศ.2524,BenjiTakesaDiveat</s>\n",
            "<s> สุนัขตัวแรกรับบทเป็นเบนจี้ในภาพยนตร์เรื่อง Benji ที่ออกฉายในปี พ.ศ. 2517 มีชื่อว่าอะไร</s></s>)-พ.ศ.2523,OhHeavenlyDog(ภาพยนตร์)-พ.ศ.2523,BenjiatWork(ภาพยนตร์โทรทัศน์)-พ.ศ.2524,BenjiTakesaDiveatMarineland(ภาพยนตร์โทรทัศน์)-พ.ศ.2526,Benji,</s>\n",
            "<s> สุนัขตัวแรกรับบทเป็นเบนจี้ในภาพยนตร์เรื่อง Benji ที่ออกฉายในปี พ.ศ. 2517 มีชื่อว่าอะไร</s></s>)-พ.ศ.2523,BenjiatWork(ภาพยนตร์โทรทัศน์)-พ.ศ.2524,BenjiTakesaDiveatMarineland(ภาพยนตร์โทรทัศน์)-พ.ศ.2526,Benji,ZaxtheAlienPrince(ภาพยนตร์ซีรีส์)-พ.ศ.2530</s>\n",
            "<s> สุนัขตัวแรกรับบทเป็นเบนจี้ในภาพยนตร์เรื่อง Benji ที่ออกฉายในปี พ.ศ. 2517 มีชื่อว่าอะไร</s></s>พ.ศ.2524,BenjiTakesaDiveatMarineland(ภาพยนตร์โทรทัศน์)-พ.ศ.2526,Benji,ZaxtheAlienPrince(ภาพยนตร์ซีรีส์)-พ.ศ.2530,BenjitheHunted(ภาพยนตร์)-พ.ศ.2547,</s>\n",
            "<s> สุนัขตัวแรกรับบทเป็นเบนจี้ในภาพยนตร์เรื่อง Benji ที่ออกฉายในปี พ.ศ. 2517 มีชื่อว่าอะไร</s></s>ภาพยนตร์โทรทัศน์)-พ.ศ.2526,Benji,ZaxtheAlienPrince(ภาพยนตร์ซีรีส์)-พ.ศ.2530,BenjitheHunted(ภาพยนตร์)-พ.ศ.2547,Benji:OfftheLeash!(ภาพยนตร์)-พ.ศ.2550,</s>\n",
            "<s> สุนัขตัวแรกรับบทเป็นเบนจี้ในภาพยนตร์เรื่อง Benji ที่ออกฉายในปี พ.ศ. 2517 มีชื่อว่าอะไร</s></s>enPrince(ภาพยนตร์ซีรีส์)-พ.ศ.2530,BenjitheHunted(ภาพยนตร์)-พ.ศ.2547,Benji:OfftheLeash!(ภาพยนตร์)-พ.ศ.2550,Benji:TheBarkening(ภาพยนตร์)</s>\n"
          ]
        }
      ],
      "source": [
        "inputs = tokenizer(\n",
        "    question,\n",
        "    context,\n",
        "    max_length=100,\n",
        "    truncation=\"only_second\",\n",
        "    stride=50,\n",
        "    return_overflowing_tokens=True,\n",
        "    return_offsets_mapping=True\n",
        ")\n",
        "\n",
        "for ids in inputs[\"input_ids\"]:\n",
        "    print((tokenizer.decode(ids))) # จะเห็นว่าประโยคที่สองคือการตัดมาจากอันแรก"
      ]
    },
    {
      "cell_type": "code",
      "source": [
        "len(inputs['input_ids'])"
      ],
      "metadata": {
        "colab": {
          "base_uri": "https://localhost:8080/"
        },
        "id": "urFRAzKpqJ0x",
        "outputId": "f52c6203-71bb-4d41-86cf-27f61e75108f"
      },
      "execution_count": 39,
      "outputs": [
        {
          "output_type": "execute_result",
          "data": {
            "text/plain": [
              "18"
            ]
          },
          "metadata": {},
          "execution_count": 39
        }
      ]
    },
    {
      "cell_type": "code",
      "source": [
        "inputs['overflow_to_sample_mapping'] "
      ],
      "metadata": {
        "colab": {
          "base_uri": "https://localhost:8080/"
        },
        "id": "i7eoi0tdkE66",
        "outputId": "c657aa2a-400d-4e58-eae0-d074e4b4be13"
      },
      "execution_count": 40,
      "outputs": [
        {
          "output_type": "execute_result",
          "data": {
            "text/plain": [
              "[0, 0, 0, 0, 0, 0, 0, 0, 0, 0, 0, 0, 0, 0, 0, 0, 0, 0]"
            ]
          },
          "metadata": {},
          "execution_count": 40
        }
      ]
    },
    {
      "cell_type": "code",
      "source": [
        "len(inputs['overflow_to_sample_mapping'])"
      ],
      "metadata": {
        "colab": {
          "base_uri": "https://localhost:8080/"
        },
        "id": "hiYlkdxSuaEe",
        "outputId": "85d42aef-d745-4938-b04d-18eae375b207"
      },
      "execution_count": 41,
      "outputs": [
        {
          "output_type": "execute_result",
          "data": {
            "text/plain": [
              "18"
            ]
          },
          "metadata": {},
          "execution_count": 41
        }
      ]
    },
    {
      "cell_type": "code",
      "execution_count": null,
      "metadata": {
        "colab": {
          "base_uri": "https://localhost:8080/"
        },
        "id": "B2ElGd3kKyxK",
        "outputId": "a8c3c35c-5b3f-45df-8a47-18a17c135c74"
      },
      "outputs": [
        {
          "name": "stdout",
          "output_type": "stream",
          "text": [
            "<s> สุนัขตัวแรกรับบทเป็นเบนจี้ในภาพยนตร์เรื่อง Benji ที่ออกฉายในปี พ.ศ. 2517 มีชื่อว่าอะไร</s></s> เบนจี้เบนจี้()เป็นชื่อตัวละครหมาพันทางแสนรู้ที่ปรากฏอยู่ในภาพยนตร์หลายเรื่องที่เขียนบทและกํากับโดยโจแคมป์ในช่วงทศวรรษ1970ถึง1980ภาพยนตร์เรื่องแรกในชุดใช้ชื่อเรื่องว่าเบนจี้เช่นเดียวกับตัวละครถ่ายทําที่เมืองดัลลัสรัฐเทก</s>\n",
            "<s> สุนัขตัวแรกรับบทเป็นเบนจี้ในภาพยนตร์เรื่อง Benji ที่ออกฉายในปี พ.ศ. 2517 มีชื่อว่าอะไร</s></s>ปรากฏอยู่ในภาพยนตร์หลายเรื่องที่เขียนบทและกํากับโดยโจแคมป์ในช่วงทศวรรษ1970ถึง1980ภาพยนตร์เรื่องแรกในชุดใช้ชื่อเรื่องว่าเบนจี้เช่นเดียวกับตัวละครถ่ายทําที่เมืองดัลลัสรัฐเทกซัสฉายครั้งแรกในปีพ.ศ.2517ภาพยนตร์ได้รับการเสนอชื่อเข้าชิงรางวัล</s>\n",
            "<s> สุนัขตัวแรกรับบทเป็นเบนจี้ในภาพยนตร์เรื่อง Benji ที่ออกฉายในปี พ.ศ. 2517 มีชื่อว่าอะไร</s></s>รรษ1970ถึง1980ภาพยนตร์เรื่องแรกในชุดใช้ชื่อเรื่องว่าเบนจี้เช่นเดียวกับตัวละครถ่ายทําที่เมืองดัลลัสรัฐเทกซัสฉายครั้งแรกในปีพ.ศ.2517ภาพยนตร์ได้รับการเสนอชื่อเข้าชิงรางวัลออสการ์และได้รางวัลลูกโลกทองคําสาขาเพลงประกอบยอดเยี่ยมจากเพลงBenji'</s>\n",
            "<s> สุนัขตัวแรกรับบทเป็นเบนจี้ในภาพยนตร์เรื่อง Benji ที่ออกฉายในปี พ.ศ. 2517 มีชื่อว่าอะไร</s></s>เดียวกับตัวละครถ่ายทําที่เมืองดัลลัสรัฐเทกซัสฉายครั้งแรกในปีพ.ศ.2517ภาพยนตร์ได้รับการเสนอชื่อเข้าชิงรางวัลออสการ์และได้รางวัลลูกโลกทองคําสาขาเพลงประกอบยอดเยี่ยมจากเพลงBenji'sTheme(IFeelLove)ร้องโดยชาร์ลีริชหมาที่แสดง</s>\n",
            "<s> สุนัขตัวแรกรับบทเป็นเบนจี้ในภาพยนตร์เรื่อง Benji ที่ออกฉายในปี พ.ศ. 2517 มีชื่อว่าอะไร</s></s>ในปีพ.ศ.2517ภาพยนตร์ได้รับการเสนอชื่อเข้าชิงรางวัลออสการ์และได้รางวัลลูกโลกทองคําสาขาเพลงประกอบยอดเยี่ยมจากเพลงBenji'sTheme(IFeelLove)ร้องโดยชาร์ลีริชหมาที่แสดงเป็นเบนจี้ตัวแรกชื่อว่าฮิกกิ้นส์(พ.ศ.2502-</s>\n",
            "<s> สุนัขตัวแรกรับบทเป็นเบนจี้ในภาพยนตร์เรื่อง Benji ที่ออกฉายในปี พ.ศ. 2517 มีชื่อว่าอะไร</s></s>ได้รางวัลลูกโลกทองคําสาขาเพลงประกอบยอดเยี่ยมจากเพลงBenji'sTheme(IFeelLove)ร้องโดยชาร์ลีริชหมาที่แสดงเป็นเบนจี้ตัวแรกชื่อว่าฮิกกิ้นส์(พ.ศ.2502-พ.ศ.2518)มีอายุถึง15ปีแล้วในขณะแสดงหลังจากภาพยนตร์ออกฉาย</s>\n",
            "<s> สุนัขตัวแรกรับบทเป็นเบนจี้ในภาพยนตร์เรื่อง Benji ที่ออกฉายในปี พ.ศ. 2517 มีชื่อว่าอะไร</s></s>IFeelLove)ร้องโดยชาร์ลีริชหมาที่แสดงเป็นเบนจี้ตัวแรกชื่อว่าฮิกกิ้นส์(พ.ศ.2502-พ.ศ.2518)มีอายุถึง15ปีแล้วในขณะแสดงหลังจากภาพยนตร์ออกฉายได้ไม่นานมันก็ตายในปีพ.ศ.2518เบนจี้ในภาพยนตร์เบน</s>\n",
            "<s> สุนัขตัวแรกรับบทเป็นเบนจี้ในภาพยนตร์เรื่อง Benji ที่ออกฉายในปี พ.ศ. 2517 มีชื่อว่าอะไร</s></s>ตัวแรกชื่อว่าฮิกกิ้นส์(พ.ศ.2502-พ.ศ.2518)มีอายุถึง15ปีแล้วในขณะแสดงหลังจากภาพยนตร์ออกฉายได้ไม่นานมันก็ตายในปีพ.ศ.2518เบนจี้ในภาพยนตร์เบนจี้ในภาพยนตร์.-พ.ศ.2517,Benji(ภาพยนตร์)</s>\n",
            "<s> สุนัขตัวแรกรับบทเป็นเบนจี้ในภาพยนตร์เรื่อง Benji ที่ออกฉายในปี พ.ศ. 2517 มีชื่อว่าอะไร</s></s>2518)มีอายุถึง15ปีแล้วในขณะแสดงหลังจากภาพยนตร์ออกฉายได้ไม่นานมันก็ตายในปีพ.ศ.2518เบนจี้ในภาพยนตร์เบนจี้ในภาพยนตร์.-พ.ศ.2517,Benji(ภาพยนตร์)-พ.ศ.2520,FortheLoveofBenji(ภาพยนตร์)-</s>\n",
            "<s> สุนัขตัวแรกรับบทเป็นเบนจี้ในภาพยนตร์เรื่อง Benji ที่ออกฉายในปี พ.ศ. 2517 มีชื่อว่าอะไร</s></s>ตายในปีพ.ศ.2518เบนจี้ในภาพยนตร์เบนจี้ในภาพยนตร์.-พ.ศ.2517,Benji(ภาพยนตร์)-พ.ศ.2520,FortheLoveofBenji(ภาพยนตร์)-พ.ศ.2521,Benji'sVeryOwnChristmasS</s>\n",
            "<s> สุนัขตัวแรกรับบทเป็นเบนจี้ในภาพยนตร์เรื่อง Benji ที่ออกฉายในปี พ.ศ. 2517 มีชื่อว่าอะไร</s></s>.-พ.ศ.2517,Benji(ภาพยนตร์)-พ.ศ.2520,FortheLoveofBenji(ภาพยนตร์)-พ.ศ.2521,Benji'sVeryOwnChristmasStory(ภาพยนตร์โทรทัศน์)-พ.ศ.2523,OhHeavenly</s>\n",
            "<s> สุนัขตัวแรกรับบทเป็นเบนจี้ในภาพยนตร์เรื่อง Benji ที่ออกฉายในปี พ.ศ. 2517 มีชื่อว่าอะไร</s></s>.2520,FortheLoveofBenji(ภาพยนตร์)-พ.ศ.2521,Benji'sVeryOwnChristmasStory(ภาพยนตร์โทรทัศน์)-พ.ศ.2523,OhHeavenlyDog(ภาพยนตร์)-พ.ศ.2523,BenjiatWork(</s>\n",
            "<s> สุนัขตัวแรกรับบทเป็นเบนจี้ในภาพยนตร์เรื่อง Benji ที่ออกฉายในปี พ.ศ. 2517 มีชื่อว่าอะไร</s></s>2521,Benji'sVeryOwnChristmasStory(ภาพยนตร์โทรทัศน์)-พ.ศ.2523,OhHeavenlyDog(ภาพยนตร์)-พ.ศ.2523,BenjiatWork(ภาพยนตร์โทรทัศน์)-พ.ศ.2524,BenjiTakesaDiveat</s>\n",
            "<s> สุนัขตัวแรกรับบทเป็นเบนจี้ในภาพยนตร์เรื่อง Benji ที่ออกฉายในปี พ.ศ. 2517 มีชื่อว่าอะไร</s></s>)-พ.ศ.2523,OhHeavenlyDog(ภาพยนตร์)-พ.ศ.2523,BenjiatWork(ภาพยนตร์โทรทัศน์)-พ.ศ.2524,BenjiTakesaDiveatMarineland(ภาพยนตร์โทรทัศน์)-พ.ศ.2526,Benji,</s>\n",
            "<s> สุนัขตัวแรกรับบทเป็นเบนจี้ในภาพยนตร์เรื่อง Benji ที่ออกฉายในปี พ.ศ. 2517 มีชื่อว่าอะไร</s></s>)-พ.ศ.2523,BenjiatWork(ภาพยนตร์โทรทัศน์)-พ.ศ.2524,BenjiTakesaDiveatMarineland(ภาพยนตร์โทรทัศน์)-พ.ศ.2526,Benji,ZaxtheAlienPrince(ภาพยนตร์ซีรีส์)-พ.ศ.2530</s>\n",
            "<s> สุนัขตัวแรกรับบทเป็นเบนจี้ในภาพยนตร์เรื่อง Benji ที่ออกฉายในปี พ.ศ. 2517 มีชื่อว่าอะไร</s></s>พ.ศ.2524,BenjiTakesaDiveatMarineland(ภาพยนตร์โทรทัศน์)-พ.ศ.2526,Benji,ZaxtheAlienPrince(ภาพยนตร์ซีรีส์)-พ.ศ.2530,BenjitheHunted(ภาพยนตร์)-พ.ศ.2547,</s>\n",
            "<s> สุนัขตัวแรกรับบทเป็นเบนจี้ในภาพยนตร์เรื่อง Benji ที่ออกฉายในปี พ.ศ. 2517 มีชื่อว่าอะไร</s></s>ภาพยนตร์โทรทัศน์)-พ.ศ.2526,Benji,ZaxtheAlienPrince(ภาพยนตร์ซีรีส์)-พ.ศ.2530,BenjitheHunted(ภาพยนตร์)-พ.ศ.2547,Benji:OfftheLeash!(ภาพยนตร์)-พ.ศ.2550,</s>\n",
            "<s> สุนัขตัวแรกรับบทเป็นเบนจี้ในภาพยนตร์เรื่อง Benji ที่ออกฉายในปี พ.ศ. 2517 มีชื่อว่าอะไร</s></s>enPrince(ภาพยนตร์ซีรีส์)-พ.ศ.2530,BenjitheHunted(ภาพยนตร์)-พ.ศ.2547,Benji:OfftheLeash!(ภาพยนตร์)-พ.ศ.2550,Benji:TheBarkening(ภาพยนตร์)</s>\n",
            "[0, 0, 0, 0, 88, 70, 52, 34, 0, 0, 0, 0, 0, 0, 0, 0, 0, 0]\n",
            "[0, 0, 0, 0, 91, 73, 55, 37, 0, 0, 0, 0, 0, 0, 0, 0, 0, 0]\n"
          ]
        }
      ],
      "source": [
        "answers = thaiqa_[\"train\"][0:2][\"answers\"]\n",
        "start_positions = []\n",
        "end_positions = []\n",
        "\n",
        "for i, offset in enumerate(inputs[\"offset_mapping\"]):\n",
        "    sample_idx = inputs[\"overflow_to_sample_mapping\"][i]\n",
        "    answer = answers[sample_idx]\n",
        "    start_char = answer_start[0]\n",
        "    end_char = answer_start[0] + len(answer[\"answer\"][0])\n",
        "    sequence_ids = inputs.sequence_ids(i)\n",
        "\n",
        "    # Find the start and end of the context\n",
        "    idx = 0\n",
        "    while sequence_ids[idx] != 1:\n",
        "        idx += 1\n",
        "    context_start = idx\n",
        "    while sequence_ids[idx] == 1:\n",
        "        idx += 1\n",
        "    context_end = idx - 1\n",
        "\n",
        "    # If the answer is not fully inside the context, label is (0, 0)\n",
        "    if offset[context_start][0] > end_char or offset[context_end][1] < start_char:\n",
        "        start_positions.append(0)\n",
        "        end_positions.append(0)\n",
        "    else:\n",
        "        # Otherwise it's the start and end token positions\n",
        "        idx = context_start\n",
        "        while idx <= context_end and offset[idx][0] <= start_char:\n",
        "            idx += 1\n",
        "        start_positions.append(idx - 1)\n",
        "\n",
        "        idx = context_end\n",
        "        while idx >= context_start and offset[idx][1] >= end_char:\n",
        "            idx -= 1\n",
        "        end_positions.append(idx + 1)\n",
        "\n",
        "start_positions, end_positions\n",
        "for ids in inputs[\"input_ids\"]:\n",
        "    print((tokenizer.decode(ids))) # จะเห็นว่าประโยคที่สองคือการตัดมาจากอันแรก\n",
        "print(start_positions)\n",
        "print(end_positions)"
      ]
    },
    {
      "cell_type": "code",
      "execution_count": null,
      "metadata": {
        "id": "9LMwHwYJLa80"
      },
      "outputs": [],
      "source": [
        "max_length = 400\n",
        "stride = 128\n",
        "\n",
        "\n",
        "def preprocess_training_examples(examples):\n",
        "    questions = [q.strip() for q in examples[\"question\"]]\n",
        "    inputs = tokenizer(\n",
        "        new_question,\n",
        "        new_context,\n",
        "        max_length=max_length,\n",
        "        truncation=\"only_second\",\n",
        "        stride=stride,\n",
        "        return_overflowing_tokens=True,\n",
        "        return_offsets_mapping=True,\n",
        "        padding=\"max_length\",\n",
        "    )\n",
        "\n",
        "    offset_mapping = inputs.pop(\"offset_mapping\")\n",
        "    sample_map = inputs.pop(\"overflow_to_sample_mapping\")\n",
        "    answers = thaiqa_['train'][\"answers\"]\n",
        "    start_positions = []\n",
        "    end_positions = []\n",
        "\n",
        "    for i, offset in enumerate(offset_mapping):\n",
        "        sample_idx = sample_map[i]\n",
        "        answer = answers[sample_idx]\n",
        "        start_char = answer_start[0]\n",
        "        end_char = answer_start[0] + len(answer[\"answer\"][0])\n",
        "        sequence_ids = inputs.sequence_ids(i)\n",
        "\n",
        "        # Find the start and end of the context\n",
        "        idx = 0\n",
        "        while sequence_ids[idx] != 1:\n",
        "            idx += 1\n",
        "        context_start = idx\n",
        "        while sequence_ids[idx] == 1:\n",
        "            idx += 1\n",
        "        context_end = idx - 1\n",
        "\n",
        "        # If the answer is not fully inside the context, label is (0, 0)\n",
        "        if offset[context_start][0] > end_char or offset[context_end][1] < start_char:\n",
        "            start_positions.append(0)\n",
        "            end_positions.append(0)\n",
        "        else:\n",
        "            # Otherwise it's the start and end token positions\n",
        "            idx = context_start\n",
        "            while idx <= context_end and offset[idx][0] <= start_char:\n",
        "                idx += 1\n",
        "            start_positions.append(idx - 1)\n",
        "\n",
        "            idx = context_end\n",
        "            while idx >= context_start and offset[idx][1] >= end_char:\n",
        "                idx -= 1\n",
        "            end_positions.append(idx + 1)\n",
        "\n",
        "    inputs[\"start_positions\"] = start_positions\n",
        "    inputs[\"end_positions\"] = end_positions\n",
        "    return inputs"
      ]
    },
    {
      "cell_type": "code",
      "execution_count": null,
      "metadata": {
        "colab": {
          "base_uri": "https://localhost:8080/",
          "height": 66,
          "referenced_widgets": [
            "bf48a15e171b44369953ba5130c13850",
            "b04095fd5d2241bba394e652b571d8f2",
            "28da132593e840c5b9715b41b498390b",
            "a2aa951c16d649efb36c391281702e9b",
            "c0848386114b49ae987fb3368dab264c",
            "2f626baed48645d083e81b33c4d49550",
            "0bcb34f8fa8141799d8f9ffaab6d40bd",
            "4f16888581f946f3bbd195c4183360c6",
            "0748f10b3bcb46118ad19f33774e9fd4",
            "0de8489b92054a81b861dad7f063bfc1",
            "7723f12fe96b4d40a4027fbbe71e9a07"
          ]
        },
        "id": "eQ3MUZGQLvY7",
        "outputId": "5dca40bb-3159-43f0-c38a-6d964203f66d"
      },
      "outputs": [
        {
          "data": {
            "application/vnd.jupyter.widget-view+json": {
              "model_id": "bf48a15e171b44369953ba5130c13850",
              "version_major": 2,
              "version_minor": 0
            },
            "text/plain": [
              "  0%|          | 0/4 [00:00<?, ?ba/s]"
            ]
          },
          "metadata": {},
          "output_type": "display_data"
        },
        {
          "data": {
            "text/plain": [
              "(4000, 79572)"
            ]
          },
          "execution_count": 153,
          "metadata": {},
          "output_type": "execute_result"
        }
      ],
      "source": [
        "train_dataset = thaiqa_[\"train\"].map( # จัดการ training data\n",
        "    preprocess_training_examples,\n",
        "    batched=True,\n",
        "    remove_columns=thaiqa_[\"train\"].column_names,\n",
        ")\n",
        "len(thaiqa_[\"train\"]), len(train_dataset) # ทำการตัดคำทั้งหมดพร้อมทั้งแบ่งเป็นก้อนๆ"
      ]
    },
    {
      "cell_type": "code",
      "execution_count": null,
      "metadata": {
        "colab": {
          "base_uri": "https://localhost:8080/"
        },
        "id": "6XytuJrjPe79",
        "outputId": "6f6af1be-923d-4fa4-dc77-35204b897b70"
      },
      "outputs": [
        {
          "data": {
            "text/plain": [
              "Dataset({\n",
              "    features: ['input_ids', 'attention_mask', 'start_positions', 'end_positions'],\n",
              "    num_rows: 79572\n",
              "})"
            ]
          },
          "execution_count": 154,
          "metadata": {},
          "output_type": "execute_result"
        }
      ],
      "source": [
        "train_dataset"
      ]
    },
    {
      "cell_type": "code",
      "execution_count": null,
      "metadata": {
        "id": "o23J-FFLi5_m"
      },
      "outputs": [],
      "source": [
        "thaiqa_['validation']['question_id']"
      ]
    },
    {
      "cell_type": "code",
      "execution_count": null,
      "metadata": {
        "id": "MkzamJQbPijk"
      },
      "outputs": [],
      "source": [
        "def preprocess_validation_examples(examples):\n",
        "    questions = [q.strip() for q in examples[\"question\"]]\n",
        "    inputs = tokenizer(\n",
        "        new_question,\n",
        "        new_context,\n",
        "        max_length=max_length,\n",
        "        truncation=\"only_second\",\n",
        "        stride=stride,\n",
        "        return_overflowing_tokens=True,\n",
        "        return_offsets_mapping=True,\n",
        "        padding=\"max_length\",\n",
        "    )\n",
        "\n",
        "    sample_map = inputs.pop(\"overflow_to_sample_mapping\")\n",
        "    example_ids = []\n",
        "\n",
        "    for i in range(len(inputs[\"input_ids\"])):\n",
        "        sample_idx = sample_map[i]\n",
        "        example_ids.append(thaiqa_['validation']['question_id'][sample_idx])\n",
        "\n",
        "        sequence_ids = inputs.sequence_ids(i)\n",
        "        offset = inputs[\"offset_mapping\"][i]\n",
        "        inputs[\"offset_mapping\"][i] = [\n",
        "            o if sequence_ids[k] == 1 else None for k, o in enumerate(offset)\n",
        "        ]\n",
        "\n",
        "    inputs[\"example_id\"] = example_ids\n",
        "    return inputs"
      ]
    },
    {
      "cell_type": "code",
      "execution_count": null,
      "metadata": {
        "colab": {
          "base_uri": "https://localhost:8080/",
          "height": 66,
          "referenced_widgets": [
            "f5e718a9971c4a86a94b6c11e13dc091",
            "08c560c2c716437a958c995e67d05d04",
            "73f42c6cd0e849d79e919aef4ced4fa8",
            "3983063ef5364eaa92ce2e5b005ca949",
            "14ac667c1e824cbd8e6e030362b0ceec",
            "17276457892c45c9887f58d8fd7c3748",
            "118a170ba8a34c17abad58ef61e6c1c6",
            "a5623e677d364525a11ba2e93367a641",
            "d6adff55ffca4edf8ff95767b3a4aaac",
            "8a1de63caad5453fb229fe9e7191fdb3",
            "ce29fe7be7dd4682956ca5c5d6cfb0d8"
          ]
        },
        "id": "StKGeO6yPuNj",
        "outputId": "c3a40a71-c8f8-4f08-8320-d701d80ff236"
      },
      "outputs": [
        {
          "data": {
            "application/vnd.jupyter.widget-view+json": {
              "model_id": "f5e718a9971c4a86a94b6c11e13dc091",
              "version_major": 2,
              "version_minor": 0
            },
            "text/plain": [
              "  0%|          | 0/1 [00:00<?, ?ba/s]"
            ]
          },
          "metadata": {},
          "output_type": "display_data"
        },
        {
          "data": {
            "text/plain": [
              "(74, 14595)"
            ]
          },
          "execution_count": 164,
          "metadata": {},
          "output_type": "execute_result"
        }
      ],
      "source": [
        "validation_dataset = thaiqa_[\"validation\"].map( # จัดการ validation data\n",
        "    preprocess_training_examples,\n",
        "    batched=True,\n",
        "    remove_columns=thaiqa_[\"validation\"].column_names,\n",
        ")\n",
        "len(thaiqa_[\"validation\"]), len(validation_dataset) # ทำการตัดคำทั้งหมดพร้อมทั้งแบ่งเป็นก้อนๆ"
      ]
    },
    {
      "cell_type": "code",
      "execution_count": null,
      "metadata": {
        "colab": {
          "base_uri": "https://localhost:8080/"
        },
        "id": "3vbuGYWVP2L8",
        "outputId": "3de28814-d484-4588-b506-f327724edd8d"
      },
      "outputs": [
        {
          "data": {
            "text/plain": [
              "Dataset({\n",
              "    features: ['input_ids', 'attention_mask', 'start_positions', 'end_positions'],\n",
              "    num_rows: 14595\n",
              "})"
            ]
          },
          "execution_count": 165,
          "metadata": {},
          "output_type": "execute_result"
        }
      ],
      "source": [
        "validation_dataset"
      ]
    },
    {
      "cell_type": "code",
      "execution_count": null,
      "metadata": {
        "id": "UlpDjvnIP4-k"
      },
      "outputs": [],
      "source": [
        "small_eval_set = thaiqa_[\"validation\"].select(range(74)) # ดาต้าขนาดเล็กก็พอแล้ว\n",
        "trained_checkpoint = \"airesearch/wangchanberta-base-wiki-20210520-spm-finetune-qa\" # โมเดลที่เทรนมาเรียบร้อยแล้ว\n",
        "\n",
        "tokenizer = AutoTokenizer.from_pretrained(trained_checkpoint) # โหลด Tokenizer ของตัว finetune มาโดยใช้คำสั่ง?\n",
        "eval_set = small_eval_set.map(\n",
        "    preprocess_validation_examples,\n",
        "    batched=True,\n",
        "    remove_columns=thaiqa_[\"validation\"].column_names,\n",
        ")"
      ]
    },
    {
      "cell_type": "code",
      "execution_count": null,
      "metadata": {
        "id": "O_4jHzPlQZFt"
      },
      "outputs": [],
      "source": [
        "tokenizer = tokenizers[model_name].from_pretrained(\n",
        "                f'airesearch/{model_name}' if model_name not in public_models else f'{model_name}',\n",
        "                revision='main',\n",
        "                model_max_length=416,) # เอาตัวตัดคำอันเดิมกลับมา"
      ]
    },
    {
      "cell_type": "code",
      "execution_count": null,
      "metadata": {
        "id": "7srKrnQDQegX"
      },
      "outputs": [],
      "source": [
        "import torch\n",
        "from transformers import AutoModelForQuestionAnswering\n",
        "\n",
        "eval_set_for_model = eval_set.remove_columns([\"example_id\", \"offset_mapping\"])\n",
        "eval_set_for_model.set_format(\"torch\")\n",
        "\n",
        "device = torch.device(\"cuda\") if torch.cuda.is_available() else torch.device(\"cpu\")\n",
        "batch = {k: eval_set_for_model[k].to(device) for k in eval_set_for_model.column_names}\n",
        "trained_model = AutoModelForQuestionAnswering.from_pretrained(trained_checkpoint).to(\n",
        "    device\n",
        ")\n",
        "\n",
        "with torch.no_grad():\n",
        "    outputs = trained_model(**batch) # ได้คู่ของ start,end ที่มาจากโมเดลที่เทรนมาเรียบร้อยแล้ว!"
      ]
    },
    {
      "cell_type": "code",
      "execution_count": null,
      "metadata": {
        "id": "6w3xs-_pQg3b"
      },
      "outputs": [],
      "source": [
        "start_logits = outputs.start_logits.cpu().numpy()\n",
        "end_logits = outputs.end_logits.cpu().numpy() # เอาออกจาก gpu เพราะว่าแค่เอาเลขมาเทียบ ไม่จำเป็นต้องลง gpu"
      ]
    },
    {
      "cell_type": "code",
      "execution_count": null,
      "metadata": {
        "id": "mueZH0tKQjEN"
      },
      "outputs": [],
      "source": [
        "import collections\n",
        "\n",
        "example_to_features = collections.defaultdict(list)\n",
        "for idx, feature in enumerate(eval_set):\n",
        "    example_to_features[feature[\"example_id\"]].append(idx)"
      ]
    },
    {
      "cell_type": "code",
      "execution_count": null,
      "metadata": {
        "id": "1YVKFxfHQk7d"
      },
      "outputs": [],
      "source": [
        "import numpy as np\n",
        "\n",
        "n_best = 20\n",
        "max_answer_length = 30\n",
        "predicted_answers = []\n",
        "\n",
        "for example in small_eval_set:\n",
        "    example_id = example[\"question_id\"]\n",
        "    context = example[\"context\"]\n",
        "    answers = []\n",
        "\n",
        "    for feature_index in example_to_features[example_id]:\n",
        "        start_logit = start_logits[feature_index]\n",
        "        end_logit = end_logits[feature_index]\n",
        "        offsets = eval_set[\"offset_mapping\"][feature_index]\n",
        "\n",
        "        start_indexes = np.argsort(start_logit)[-1 : -n_best - 1 : -1].tolist()\n",
        "        end_indexes = np.argsort(end_logit)[-1 : -n_best - 1 : -1].tolist()\n",
        "        for start_index in start_indexes:\n",
        "            for end_index in end_indexes:\n",
        "                # Skip answers that are not fully in the context\n",
        "                if offsets[start_index] is None or offsets[end_index] is None:\n",
        "                    continue\n",
        "                # Skip answers with a length that is either < 0 or > max_answer_length.\n",
        "                if (\n",
        "                    end_index < start_index\n",
        "                    or end_index - start_index + 1 > max_answer_length\n",
        "                ):\n",
        "                    continue\n",
        "\n",
        "                answers.append(\n",
        "                    {\n",
        "                        \"text\": context[offsets[start_index][0] : offsets[end_index][1]],\n",
        "                        \"logit_score\": start_logit[start_index] + end_logit[end_index],\n",
        "                    }\n",
        "                )\n",
        "\n",
        "    best_answer = max(answers, key=lambda x: x[\"logit_score\"])\n",
        "    predicted_answers.append({\"id\": example_id, \"prediction_text\": best_answer[\"text\"]})"
      ]
    },
    {
      "cell_type": "code",
      "execution_count": null,
      "metadata": {
        "id": "CRnJ6iyrQo_f"
      },
      "outputs": [],
      "source": [
        "metric = squad_newmm_metric # โหลด F1 กับ exact match มา"
      ]
    },
    {
      "cell_type": "code",
      "execution_count": null,
      "metadata": {
        "id": "_FK7vg1_Q3aJ"
      },
      "outputs": [],
      "source": [
        "theoretical_answers = [ \n",
        "    {\"id\": ex[\"question_id\"], \"answers\": {'text': ex[ANSWERS_COL][TEXT_COL],\n",
        "                           'answer_start':ex[ANSWERS_COL][START_COL]}} for ex in small_eval_set\n",
        "]"
      ]
    },
    {
      "cell_type": "code",
      "execution_count": null,
      "metadata": {
        "id": "zkis0a9CSaCK"
      },
      "outputs": [],
      "source": [
        "from tqdm.auto import tqdm\n",
        "\n",
        "\n",
        "def compute_metrics(start_logits, end_logits, features, examples):\n",
        "    example_to_features = collections.defaultdict(list)\n",
        "    for idx, feature in enumerate(features):\n",
        "        example_to_features[feature[\"example_id\"]].append(idx)\n",
        "\n",
        "    predicted_answers = []\n",
        "    for example in tqdm(examples):\n",
        "        example_id = example[\"question_id\"]\n",
        "        context = example[\"context\"]\n",
        "        answers = []\n",
        "\n",
        "        # Loop through all features associated with that example\n",
        "        for feature_index in example_to_features[example_id]:\n",
        "            start_logit = start_logits[feature_index]\n",
        "            end_logit = end_logits[feature_index]\n",
        "            offsets = features[feature_index][\"offset_mapping\"]\n",
        "\n",
        "            start_indexes = np.argsort(start_logit)[-1 : -n_best - 1 : -1].tolist()\n",
        "            end_indexes = np.argsort(end_logit)[-1 : -n_best - 1 : -1].tolist()\n",
        "            for start_index in start_indexes:\n",
        "                for end_index in end_indexes:\n",
        "                    # Skip answers that are not fully in the context\n",
        "                    if offsets[start_index] is None or offsets[end_index] is None:\n",
        "                        continue\n",
        "                    # Skip answers with a length that is either < 0 or > max_answer_length\n",
        "                    if (\n",
        "                        end_index < start_index\n",
        "                        or end_index - start_index + 1 > max_answer_length\n",
        "                    ):\n",
        "                        continue\n",
        "\n",
        "                    answer = {\n",
        "                        \"text\": context[offsets[start_index][0] : offsets[end_index][1]],\n",
        "                        \"logit_score\": start_logit[start_index] + end_logit[end_index],\n",
        "                    }\n",
        "                    answers.append(answer)\n",
        "\n",
        "        # Select the answer with the best score\n",
        "        if len(answers) > 0:\n",
        "            best_answer = max(answers, key=lambda x: x[\"logit_score\"])\n",
        "            predicted_answers.append(\n",
        "                {\"id\": example_id, \"prediction_text\": best_answer[\"text\"]}\n",
        "            )\n",
        "        else:\n",
        "            predicted_answers.append({\"id\": example_id, \"prediction_text\": \"\"})\n",
        "\n",
        "    theoretical_answers = [{\"id\": ex[\"question_id\"], \"answers\": {'text': ex[ANSWERS_COL][TEXT_COL],\n",
        "                           'answer_start':ex[ANSWERS_COL][START_COL]}} for ex in examples]\n",
        "    return metric.compute(predictions=predicted_answers, references=theoretical_answers)"
      ]
    },
    {
      "cell_type": "code",
      "execution_count": null,
      "metadata": {
        "colab": {
          "base_uri": "https://localhost:8080/",
          "height": 156,
          "referenced_widgets": [
            "2b9674d909ec44fcaad4ee6d8f84cba0",
            "c63817bdc284403ea930821994f82bb7",
            "6395887cccb846778ef934af926c61ec",
            "b082c4ddd6124ef0be9dac3437c143d6",
            "c7b2802ce8464d86a1e3193a79552f81",
            "21069832c95149a094f2167127314018",
            "e62425b391164abbb770b1c55bc3196e",
            "e3657e90e8c84a268a278bb28725021f",
            "2085c50724bb4b968b86dd1d3e34fa36",
            "67e98c453a3348bbabce6d36760a37fe",
            "81ed245179d44827b2109b5455f9b8a9"
          ]
        },
        "id": "guqs6BXvRSNG",
        "outputId": "a6f06bf4-3345-460f-ebf7-7bce02fd978d"
      },
      "outputs": [
        {
          "data": {
            "application/vnd.jupyter.widget-view+json": {
              "model_id": "2b9674d909ec44fcaad4ee6d8f84cba0",
              "version_major": 2,
              "version_minor": 0
            },
            "text/plain": [
              "Downloading:   0%|          | 0.00/1.12G [00:00<?, ?B/s]"
            ]
          },
          "metadata": {},
          "output_type": "display_data"
        },
        {
          "name": "stderr",
          "output_type": "stream",
          "text": [
            "Some weights of the model checkpoint at xlm-roberta-base were not used when initializing XLMRobertaForQuestionAnswering: ['lm_head.bias', 'lm_head.dense.weight', 'lm_head.dense.bias', 'lm_head.layer_norm.weight', 'lm_head.layer_norm.bias', 'lm_head.decoder.weight']\n",
            "- This IS expected if you are initializing XLMRobertaForQuestionAnswering from the checkpoint of a model trained on another task or with another architecture (e.g. initializing a BertForSequenceClassification model from a BertForPreTraining model).\n",
            "- This IS NOT expected if you are initializing XLMRobertaForQuestionAnswering from the checkpoint of a model that you expect to be exactly identical (initializing a BertForSequenceClassification model from a BertForSequenceClassification model).\n",
            "Some weights of XLMRobertaForQuestionAnswering were not initialized from the model checkpoint at xlm-roberta-base and are newly initialized: ['qa_outputs.weight', 'qa_outputs.bias']\n",
            "You should probably TRAIN this model on a down-stream task to be able to use it for predictions and inference.\n"
          ]
        }
      ],
      "source": [
        "model = AutoModelForQuestionAnswering.from_pretrained(\n",
        "            f'airesearch/{model_name}' if model_name not in public_models else f'{model_name}',\n",
        "            revision='main',)"
      ]
    },
    {
      "cell_type": "code",
      "execution_count": null,
      "metadata": {
        "id": "ukHz6RY-Rf6Y"
      },
      "outputs": [],
      "source": [
        "batch_size = 32\n",
        "learning_rate = 2e-5\n",
        "\n",
        "args = TrainingArguments(\n",
        "    f\"finetune_iapp_thaiqa\",\n",
        "    evaluation_strategy = \"no\",\n",
        "    learning_rate=learning_rate,\n",
        "    per_device_train_batch_size=batch_size,\n",
        "    per_device_eval_batch_size=batch_size*2,\n",
        "    num_train_epochs=2,\n",
        "    warmup_ratio=0.2,\n",
        "    weight_decay=0.01,\n",
        "    fp16=True,\n",
        "    save_total_limit=3,\n",
        "    load_best_model_at_end=True,\n",
        ")"
      ]
    },
    {
      "cell_type": "code",
      "execution_count": null,
      "metadata": {
        "colab": {
          "background_save": true,
          "base_uri": "https://localhost:8080/",
          "height": 350
        },
        "id": "zv7PoztwRki3",
        "outputId": "6fcbb460-341e-4b9b-e99e-7a0fec5cee60"
      },
      "outputs": [
        {
          "name": "stderr",
          "output_type": "stream",
          "text": [
            "/usr/local/lib/python3.7/dist-packages/torch/optim/lr_scheduler.py:136: UserWarning: Detected call of `lr_scheduler.step()` before `optimizer.step()`. In PyTorch 1.1.0 and later, you should call them in the opposite order: `optimizer.step()` before `lr_scheduler.step()`.  Failure to do this will result in PyTorch skipping the first value of the learning rate schedule. See more details at https://pytorch.org/docs/stable/optim.html#how-to-adjust-learning-rate\n",
            "  \"https://pytorch.org/docs/stable/optim.html#how-to-adjust-learning-rate\", UserWarning)\n"
          ]
        },
        {
          "data": {
            "text/html": [
              "\n",
              "    <div>\n",
              "        <style>\n",
              "            /* Turns off some styling */\n",
              "            progress {\n",
              "                /* gets rid of default border in Firefox and Opera. */\n",
              "                border: none;\n",
              "                /* Needs to be in here for Safari polyfill so background images work as expected. */\n",
              "                background-size: auto;\n",
              "            }\n",
              "        </style>\n",
              "      \n",
              "      <progress value='4974' max='4974' style='width:300px; height:20px; vertical-align: middle;'></progress>\n",
              "      [4974/4974 1:50:15, Epoch 2/2]\n",
              "    </div>\n",
              "    <table border=\"1\" class=\"dataframe\">\n",
              "  <thead>\n",
              "    <tr style=\"text-align: left;\">\n",
              "      <th>Step</th>\n",
              "      <th>Training Loss</th>\n",
              "    </tr>\n",
              "  </thead>\n",
              "  <tbody>\n",
              "    <tr>\n",
              "      <td>500</td>\n",
              "      <td>2.414200</td>\n",
              "    </tr>\n",
              "    <tr>\n",
              "      <td>1000</td>\n",
              "      <td>0.679100</td>\n",
              "    </tr>\n",
              "    <tr>\n",
              "      <td>1500</td>\n",
              "      <td>0.581600</td>\n",
              "    </tr>\n",
              "    <tr>\n",
              "      <td>2000</td>\n",
              "      <td>0.536900</td>\n",
              "    </tr>\n",
              "    <tr>\n",
              "      <td>2500</td>\n",
              "      <td>0.492100</td>\n",
              "    </tr>\n",
              "    <tr>\n",
              "      <td>3000</td>\n",
              "      <td>0.447100</td>\n",
              "    </tr>\n",
              "    <tr>\n",
              "      <td>3500</td>\n",
              "      <td>0.425400</td>\n",
              "    </tr>\n",
              "    <tr>\n",
              "      <td>4000</td>\n",
              "      <td>0.396900</td>\n",
              "    </tr>\n",
              "    <tr>\n",
              "      <td>4500</td>\n",
              "      <td>0.346800</td>\n",
              "    </tr>\n",
              "  </tbody>\n",
              "</table><p>"
            ],
            "text/plain": [
              "<IPython.core.display.HTML object>"
            ]
          },
          "metadata": {},
          "output_type": "display_data"
        },
        {
          "data": {
            "text/plain": [
              "TrainOutput(global_step=4974, training_loss=0.6674433095799328, metrics={'train_runtime': 6619.4659, 'train_samples_per_second': 0.751, 'total_flos': 1.059725613780864e+17, 'epoch': 2.0, 'init_mem_cpu_alloc_delta': 388463, 'init_mem_gpu_alloc_delta': 1109893120, 'init_mem_cpu_peaked_delta': 19163, 'init_mem_gpu_peaked_delta': 0, 'train_mem_cpu_alloc_delta': 1372599, 'train_mem_gpu_alloc_delta': 3348135936, 'train_mem_cpu_peaked_delta': 4202752, 'train_mem_gpu_peaked_delta': 11101483520})"
            ]
          },
          "execution_count": 172,
          "metadata": {},
          "output_type": "execute_result"
        }
      ],
      "source": [
        "from transformers import Trainer\n",
        "\n",
        "trainer = Trainer(\n",
        "    model=model,\n",
        "    args=args,\n",
        "    train_dataset=train_dataset,\n",
        "    eval_dataset=validation_dataset,\n",
        "    tokenizer=tokenizer,\n",
        "    compute_metrics=compute_metrics,\n",
        ")\n",
        "trainer.train()"
      ]
    }
  ],
  "metadata": {
    "accelerator": "GPU",
    "colab": {
      "machine_shape": "hm",
      "name": "Train_Transformers_QA.ipynb",
      "provenance": []
    },
    "gpuClass": "standard",
    "kernelspec": {
      "display_name": "Python 3",
      "name": "python3"
    },
    "language_info": {
      "name": "python"
    },
    "widgets": {
      "application/vnd.jupyter.widget-state+json": {
        "0748f10b3bcb46118ad19f33774e9fd4": {
          "model_module": "@jupyter-widgets/controls",
          "model_module_version": "1.5.0",
          "model_name": "ProgressStyleModel",
          "state": {
            "_model_module": "@jupyter-widgets/controls",
            "_model_module_version": "1.5.0",
            "_model_name": "ProgressStyleModel",
            "_view_count": null,
            "_view_module": "@jupyter-widgets/base",
            "_view_module_version": "1.2.0",
            "_view_name": "StyleView",
            "bar_color": null,
            "description_width": ""
          }
        },
        "08c560c2c716437a958c995e67d05d04": {
          "model_module": "@jupyter-widgets/controls",
          "model_module_version": "1.5.0",
          "model_name": "HTMLModel",
          "state": {
            "_dom_classes": [],
            "_model_module": "@jupyter-widgets/controls",
            "_model_module_version": "1.5.0",
            "_model_name": "HTMLModel",
            "_view_count": null,
            "_view_module": "@jupyter-widgets/controls",
            "_view_module_version": "1.5.0",
            "_view_name": "HTMLView",
            "description": "",
            "description_tooltip": null,
            "layout": "IPY_MODEL_17276457892c45c9887f58d8fd7c3748",
            "placeholder": "​",
            "style": "IPY_MODEL_118a170ba8a34c17abad58ef61e6c1c6",
            "value": "100%"
          }
        },
        "0bcb34f8fa8141799d8f9ffaab6d40bd": {
          "model_module": "@jupyter-widgets/controls",
          "model_module_version": "1.5.0",
          "model_name": "DescriptionStyleModel",
          "state": {
            "_model_module": "@jupyter-widgets/controls",
            "_model_module_version": "1.5.0",
            "_model_name": "DescriptionStyleModel",
            "_view_count": null,
            "_view_module": "@jupyter-widgets/base",
            "_view_module_version": "1.2.0",
            "_view_name": "StyleView",
            "description_width": ""
          }
        },
        "0de8489b92054a81b861dad7f063bfc1": {
          "model_module": "@jupyter-widgets/base",
          "model_module_version": "1.2.0",
          "model_name": "LayoutModel",
          "state": {
            "_model_module": "@jupyter-widgets/base",
            "_model_module_version": "1.2.0",
            "_model_name": "LayoutModel",
            "_view_count": null,
            "_view_module": "@jupyter-widgets/base",
            "_view_module_version": "1.2.0",
            "_view_name": "LayoutView",
            "align_content": null,
            "align_items": null,
            "align_self": null,
            "border": null,
            "bottom": null,
            "display": null,
            "flex": null,
            "flex_flow": null,
            "grid_area": null,
            "grid_auto_columns": null,
            "grid_auto_flow": null,
            "grid_auto_rows": null,
            "grid_column": null,
            "grid_gap": null,
            "grid_row": null,
            "grid_template_areas": null,
            "grid_template_columns": null,
            "grid_template_rows": null,
            "height": null,
            "justify_content": null,
            "justify_items": null,
            "left": null,
            "margin": null,
            "max_height": null,
            "max_width": null,
            "min_height": null,
            "min_width": null,
            "object_fit": null,
            "object_position": null,
            "order": null,
            "overflow": null,
            "overflow_x": null,
            "overflow_y": null,
            "padding": null,
            "right": null,
            "top": null,
            "visibility": null,
            "width": null
          }
        },
        "118a170ba8a34c17abad58ef61e6c1c6": {
          "model_module": "@jupyter-widgets/controls",
          "model_module_version": "1.5.0",
          "model_name": "DescriptionStyleModel",
          "state": {
            "_model_module": "@jupyter-widgets/controls",
            "_model_module_version": "1.5.0",
            "_model_name": "DescriptionStyleModel",
            "_view_count": null,
            "_view_module": "@jupyter-widgets/base",
            "_view_module_version": "1.2.0",
            "_view_name": "StyleView",
            "description_width": ""
          }
        },
        "14ac667c1e824cbd8e6e030362b0ceec": {
          "model_module": "@jupyter-widgets/base",
          "model_module_version": "1.2.0",
          "model_name": "LayoutModel",
          "state": {
            "_model_module": "@jupyter-widgets/base",
            "_model_module_version": "1.2.0",
            "_model_name": "LayoutModel",
            "_view_count": null,
            "_view_module": "@jupyter-widgets/base",
            "_view_module_version": "1.2.0",
            "_view_name": "LayoutView",
            "align_content": null,
            "align_items": null,
            "align_self": null,
            "border": null,
            "bottom": null,
            "display": null,
            "flex": null,
            "flex_flow": null,
            "grid_area": null,
            "grid_auto_columns": null,
            "grid_auto_flow": null,
            "grid_auto_rows": null,
            "grid_column": null,
            "grid_gap": null,
            "grid_row": null,
            "grid_template_areas": null,
            "grid_template_columns": null,
            "grid_template_rows": null,
            "height": null,
            "justify_content": null,
            "justify_items": null,
            "left": null,
            "margin": null,
            "max_height": null,
            "max_width": null,
            "min_height": null,
            "min_width": null,
            "object_fit": null,
            "object_position": null,
            "order": null,
            "overflow": null,
            "overflow_x": null,
            "overflow_y": null,
            "padding": null,
            "right": null,
            "top": null,
            "visibility": null,
            "width": null
          }
        },
        "17276457892c45c9887f58d8fd7c3748": {
          "model_module": "@jupyter-widgets/base",
          "model_module_version": "1.2.0",
          "model_name": "LayoutModel",
          "state": {
            "_model_module": "@jupyter-widgets/base",
            "_model_module_version": "1.2.0",
            "_model_name": "LayoutModel",
            "_view_count": null,
            "_view_module": "@jupyter-widgets/base",
            "_view_module_version": "1.2.0",
            "_view_name": "LayoutView",
            "align_content": null,
            "align_items": null,
            "align_self": null,
            "border": null,
            "bottom": null,
            "display": null,
            "flex": null,
            "flex_flow": null,
            "grid_area": null,
            "grid_auto_columns": null,
            "grid_auto_flow": null,
            "grid_auto_rows": null,
            "grid_column": null,
            "grid_gap": null,
            "grid_row": null,
            "grid_template_areas": null,
            "grid_template_columns": null,
            "grid_template_rows": null,
            "height": null,
            "justify_content": null,
            "justify_items": null,
            "left": null,
            "margin": null,
            "max_height": null,
            "max_width": null,
            "min_height": null,
            "min_width": null,
            "object_fit": null,
            "object_position": null,
            "order": null,
            "overflow": null,
            "overflow_x": null,
            "overflow_y": null,
            "padding": null,
            "right": null,
            "top": null,
            "visibility": null,
            "width": null
          }
        },
        "2085c50724bb4b968b86dd1d3e34fa36": {
          "model_module": "@jupyter-widgets/controls",
          "model_module_version": "1.5.0",
          "model_name": "ProgressStyleModel",
          "state": {
            "_model_module": "@jupyter-widgets/controls",
            "_model_module_version": "1.5.0",
            "_model_name": "ProgressStyleModel",
            "_view_count": null,
            "_view_module": "@jupyter-widgets/base",
            "_view_module_version": "1.2.0",
            "_view_name": "StyleView",
            "bar_color": null,
            "description_width": ""
          }
        },
        "21069832c95149a094f2167127314018": {
          "model_module": "@jupyter-widgets/base",
          "model_module_version": "1.2.0",
          "model_name": "LayoutModel",
          "state": {
            "_model_module": "@jupyter-widgets/base",
            "_model_module_version": "1.2.0",
            "_model_name": "LayoutModel",
            "_view_count": null,
            "_view_module": "@jupyter-widgets/base",
            "_view_module_version": "1.2.0",
            "_view_name": "LayoutView",
            "align_content": null,
            "align_items": null,
            "align_self": null,
            "border": null,
            "bottom": null,
            "display": null,
            "flex": null,
            "flex_flow": null,
            "grid_area": null,
            "grid_auto_columns": null,
            "grid_auto_flow": null,
            "grid_auto_rows": null,
            "grid_column": null,
            "grid_gap": null,
            "grid_row": null,
            "grid_template_areas": null,
            "grid_template_columns": null,
            "grid_template_rows": null,
            "height": null,
            "justify_content": null,
            "justify_items": null,
            "left": null,
            "margin": null,
            "max_height": null,
            "max_width": null,
            "min_height": null,
            "min_width": null,
            "object_fit": null,
            "object_position": null,
            "order": null,
            "overflow": null,
            "overflow_x": null,
            "overflow_y": null,
            "padding": null,
            "right": null,
            "top": null,
            "visibility": null,
            "width": null
          }
        },
        "28da132593e840c5b9715b41b498390b": {
          "model_module": "@jupyter-widgets/controls",
          "model_module_version": "1.5.0",
          "model_name": "FloatProgressModel",
          "state": {
            "_dom_classes": [],
            "_model_module": "@jupyter-widgets/controls",
            "_model_module_version": "1.5.0",
            "_model_name": "FloatProgressModel",
            "_view_count": null,
            "_view_module": "@jupyter-widgets/controls",
            "_view_module_version": "1.5.0",
            "_view_name": "ProgressView",
            "bar_style": "success",
            "description": "",
            "description_tooltip": null,
            "layout": "IPY_MODEL_4f16888581f946f3bbd195c4183360c6",
            "max": 4,
            "min": 0,
            "orientation": "horizontal",
            "style": "IPY_MODEL_0748f10b3bcb46118ad19f33774e9fd4",
            "value": 4
          }
        },
        "2b9674d909ec44fcaad4ee6d8f84cba0": {
          "model_module": "@jupyter-widgets/controls",
          "model_module_version": "1.5.0",
          "model_name": "HBoxModel",
          "state": {
            "_dom_classes": [],
            "_model_module": "@jupyter-widgets/controls",
            "_model_module_version": "1.5.0",
            "_model_name": "HBoxModel",
            "_view_count": null,
            "_view_module": "@jupyter-widgets/controls",
            "_view_module_version": "1.5.0",
            "_view_name": "HBoxView",
            "box_style": "",
            "children": [
              "IPY_MODEL_c63817bdc284403ea930821994f82bb7",
              "IPY_MODEL_6395887cccb846778ef934af926c61ec",
              "IPY_MODEL_b082c4ddd6124ef0be9dac3437c143d6"
            ],
            "layout": "IPY_MODEL_c7b2802ce8464d86a1e3193a79552f81"
          }
        },
        "2f626baed48645d083e81b33c4d49550": {
          "model_module": "@jupyter-widgets/base",
          "model_module_version": "1.2.0",
          "model_name": "LayoutModel",
          "state": {
            "_model_module": "@jupyter-widgets/base",
            "_model_module_version": "1.2.0",
            "_model_name": "LayoutModel",
            "_view_count": null,
            "_view_module": "@jupyter-widgets/base",
            "_view_module_version": "1.2.0",
            "_view_name": "LayoutView",
            "align_content": null,
            "align_items": null,
            "align_self": null,
            "border": null,
            "bottom": null,
            "display": null,
            "flex": null,
            "flex_flow": null,
            "grid_area": null,
            "grid_auto_columns": null,
            "grid_auto_flow": null,
            "grid_auto_rows": null,
            "grid_column": null,
            "grid_gap": null,
            "grid_row": null,
            "grid_template_areas": null,
            "grid_template_columns": null,
            "grid_template_rows": null,
            "height": null,
            "justify_content": null,
            "justify_items": null,
            "left": null,
            "margin": null,
            "max_height": null,
            "max_width": null,
            "min_height": null,
            "min_width": null,
            "object_fit": null,
            "object_position": null,
            "order": null,
            "overflow": null,
            "overflow_x": null,
            "overflow_y": null,
            "padding": null,
            "right": null,
            "top": null,
            "visibility": null,
            "width": null
          }
        },
        "3983063ef5364eaa92ce2e5b005ca949": {
          "model_module": "@jupyter-widgets/controls",
          "model_module_version": "1.5.0",
          "model_name": "HTMLModel",
          "state": {
            "_dom_classes": [],
            "_model_module": "@jupyter-widgets/controls",
            "_model_module_version": "1.5.0",
            "_model_name": "HTMLModel",
            "_view_count": null,
            "_view_module": "@jupyter-widgets/controls",
            "_view_module_version": "1.5.0",
            "_view_name": "HTMLView",
            "description": "",
            "description_tooltip": null,
            "layout": "IPY_MODEL_8a1de63caad5453fb229fe9e7191fdb3",
            "placeholder": "​",
            "style": "IPY_MODEL_ce29fe7be7dd4682956ca5c5d6cfb0d8",
            "value": " 1/1 [00:08&lt;00:00,  8.75s/ba]"
          }
        },
        "4f16888581f946f3bbd195c4183360c6": {
          "model_module": "@jupyter-widgets/base",
          "model_module_version": "1.2.0",
          "model_name": "LayoutModel",
          "state": {
            "_model_module": "@jupyter-widgets/base",
            "_model_module_version": "1.2.0",
            "_model_name": "LayoutModel",
            "_view_count": null,
            "_view_module": "@jupyter-widgets/base",
            "_view_module_version": "1.2.0",
            "_view_name": "LayoutView",
            "align_content": null,
            "align_items": null,
            "align_self": null,
            "border": null,
            "bottom": null,
            "display": null,
            "flex": null,
            "flex_flow": null,
            "grid_area": null,
            "grid_auto_columns": null,
            "grid_auto_flow": null,
            "grid_auto_rows": null,
            "grid_column": null,
            "grid_gap": null,
            "grid_row": null,
            "grid_template_areas": null,
            "grid_template_columns": null,
            "grid_template_rows": null,
            "height": null,
            "justify_content": null,
            "justify_items": null,
            "left": null,
            "margin": null,
            "max_height": null,
            "max_width": null,
            "min_height": null,
            "min_width": null,
            "object_fit": null,
            "object_position": null,
            "order": null,
            "overflow": null,
            "overflow_x": null,
            "overflow_y": null,
            "padding": null,
            "right": null,
            "top": null,
            "visibility": null,
            "width": null
          }
        },
        "6395887cccb846778ef934af926c61ec": {
          "model_module": "@jupyter-widgets/controls",
          "model_module_version": "1.5.0",
          "model_name": "FloatProgressModel",
          "state": {
            "_dom_classes": [],
            "_model_module": "@jupyter-widgets/controls",
            "_model_module_version": "1.5.0",
            "_model_name": "FloatProgressModel",
            "_view_count": null,
            "_view_module": "@jupyter-widgets/controls",
            "_view_module_version": "1.5.0",
            "_view_name": "ProgressView",
            "bar_style": "success",
            "description": "",
            "description_tooltip": null,
            "layout": "IPY_MODEL_e3657e90e8c84a268a278bb28725021f",
            "max": 1115590446,
            "min": 0,
            "orientation": "horizontal",
            "style": "IPY_MODEL_2085c50724bb4b968b86dd1d3e34fa36",
            "value": 1115590446
          }
        },
        "67e98c453a3348bbabce6d36760a37fe": {
          "model_module": "@jupyter-widgets/base",
          "model_module_version": "1.2.0",
          "model_name": "LayoutModel",
          "state": {
            "_model_module": "@jupyter-widgets/base",
            "_model_module_version": "1.2.0",
            "_model_name": "LayoutModel",
            "_view_count": null,
            "_view_module": "@jupyter-widgets/base",
            "_view_module_version": "1.2.0",
            "_view_name": "LayoutView",
            "align_content": null,
            "align_items": null,
            "align_self": null,
            "border": null,
            "bottom": null,
            "display": null,
            "flex": null,
            "flex_flow": null,
            "grid_area": null,
            "grid_auto_columns": null,
            "grid_auto_flow": null,
            "grid_auto_rows": null,
            "grid_column": null,
            "grid_gap": null,
            "grid_row": null,
            "grid_template_areas": null,
            "grid_template_columns": null,
            "grid_template_rows": null,
            "height": null,
            "justify_content": null,
            "justify_items": null,
            "left": null,
            "margin": null,
            "max_height": null,
            "max_width": null,
            "min_height": null,
            "min_width": null,
            "object_fit": null,
            "object_position": null,
            "order": null,
            "overflow": null,
            "overflow_x": null,
            "overflow_y": null,
            "padding": null,
            "right": null,
            "top": null,
            "visibility": null,
            "width": null
          }
        },
        "73f42c6cd0e849d79e919aef4ced4fa8": {
          "model_module": "@jupyter-widgets/controls",
          "model_module_version": "1.5.0",
          "model_name": "FloatProgressModel",
          "state": {
            "_dom_classes": [],
            "_model_module": "@jupyter-widgets/controls",
            "_model_module_version": "1.5.0",
            "_model_name": "FloatProgressModel",
            "_view_count": null,
            "_view_module": "@jupyter-widgets/controls",
            "_view_module_version": "1.5.0",
            "_view_name": "ProgressView",
            "bar_style": "success",
            "description": "",
            "description_tooltip": null,
            "layout": "IPY_MODEL_a5623e677d364525a11ba2e93367a641",
            "max": 1,
            "min": 0,
            "orientation": "horizontal",
            "style": "IPY_MODEL_d6adff55ffca4edf8ff95767b3a4aaac",
            "value": 1
          }
        },
        "7723f12fe96b4d40a4027fbbe71e9a07": {
          "model_module": "@jupyter-widgets/controls",
          "model_module_version": "1.5.0",
          "model_name": "DescriptionStyleModel",
          "state": {
            "_model_module": "@jupyter-widgets/controls",
            "_model_module_version": "1.5.0",
            "_model_name": "DescriptionStyleModel",
            "_view_count": null,
            "_view_module": "@jupyter-widgets/base",
            "_view_module_version": "1.2.0",
            "_view_name": "StyleView",
            "description_width": ""
          }
        },
        "81ed245179d44827b2109b5455f9b8a9": {
          "model_module": "@jupyter-widgets/controls",
          "model_module_version": "1.5.0",
          "model_name": "DescriptionStyleModel",
          "state": {
            "_model_module": "@jupyter-widgets/controls",
            "_model_module_version": "1.5.0",
            "_model_name": "DescriptionStyleModel",
            "_view_count": null,
            "_view_module": "@jupyter-widgets/base",
            "_view_module_version": "1.2.0",
            "_view_name": "StyleView",
            "description_width": ""
          }
        },
        "8a1de63caad5453fb229fe9e7191fdb3": {
          "model_module": "@jupyter-widgets/base",
          "model_module_version": "1.2.0",
          "model_name": "LayoutModel",
          "state": {
            "_model_module": "@jupyter-widgets/base",
            "_model_module_version": "1.2.0",
            "_model_name": "LayoutModel",
            "_view_count": null,
            "_view_module": "@jupyter-widgets/base",
            "_view_module_version": "1.2.0",
            "_view_name": "LayoutView",
            "align_content": null,
            "align_items": null,
            "align_self": null,
            "border": null,
            "bottom": null,
            "display": null,
            "flex": null,
            "flex_flow": null,
            "grid_area": null,
            "grid_auto_columns": null,
            "grid_auto_flow": null,
            "grid_auto_rows": null,
            "grid_column": null,
            "grid_gap": null,
            "grid_row": null,
            "grid_template_areas": null,
            "grid_template_columns": null,
            "grid_template_rows": null,
            "height": null,
            "justify_content": null,
            "justify_items": null,
            "left": null,
            "margin": null,
            "max_height": null,
            "max_width": null,
            "min_height": null,
            "min_width": null,
            "object_fit": null,
            "object_position": null,
            "order": null,
            "overflow": null,
            "overflow_x": null,
            "overflow_y": null,
            "padding": null,
            "right": null,
            "top": null,
            "visibility": null,
            "width": null
          }
        },
        "a2aa951c16d649efb36c391281702e9b": {
          "model_module": "@jupyter-widgets/controls",
          "model_module_version": "1.5.0",
          "model_name": "HTMLModel",
          "state": {
            "_dom_classes": [],
            "_model_module": "@jupyter-widgets/controls",
            "_model_module_version": "1.5.0",
            "_model_name": "HTMLModel",
            "_view_count": null,
            "_view_module": "@jupyter-widgets/controls",
            "_view_module_version": "1.5.0",
            "_view_name": "HTMLView",
            "description": "",
            "description_tooltip": null,
            "layout": "IPY_MODEL_0de8489b92054a81b861dad7f063bfc1",
            "placeholder": "​",
            "style": "IPY_MODEL_7723f12fe96b4d40a4027fbbe71e9a07",
            "value": " 4/4 [00:55&lt;00:00, 13.36s/ba]"
          }
        },
        "a5623e677d364525a11ba2e93367a641": {
          "model_module": "@jupyter-widgets/base",
          "model_module_version": "1.2.0",
          "model_name": "LayoutModel",
          "state": {
            "_model_module": "@jupyter-widgets/base",
            "_model_module_version": "1.2.0",
            "_model_name": "LayoutModel",
            "_view_count": null,
            "_view_module": "@jupyter-widgets/base",
            "_view_module_version": "1.2.0",
            "_view_name": "LayoutView",
            "align_content": null,
            "align_items": null,
            "align_self": null,
            "border": null,
            "bottom": null,
            "display": null,
            "flex": null,
            "flex_flow": null,
            "grid_area": null,
            "grid_auto_columns": null,
            "grid_auto_flow": null,
            "grid_auto_rows": null,
            "grid_column": null,
            "grid_gap": null,
            "grid_row": null,
            "grid_template_areas": null,
            "grid_template_columns": null,
            "grid_template_rows": null,
            "height": null,
            "justify_content": null,
            "justify_items": null,
            "left": null,
            "margin": null,
            "max_height": null,
            "max_width": null,
            "min_height": null,
            "min_width": null,
            "object_fit": null,
            "object_position": null,
            "order": null,
            "overflow": null,
            "overflow_x": null,
            "overflow_y": null,
            "padding": null,
            "right": null,
            "top": null,
            "visibility": null,
            "width": null
          }
        },
        "b04095fd5d2241bba394e652b571d8f2": {
          "model_module": "@jupyter-widgets/controls",
          "model_module_version": "1.5.0",
          "model_name": "HTMLModel",
          "state": {
            "_dom_classes": [],
            "_model_module": "@jupyter-widgets/controls",
            "_model_module_version": "1.5.0",
            "_model_name": "HTMLModel",
            "_view_count": null,
            "_view_module": "@jupyter-widgets/controls",
            "_view_module_version": "1.5.0",
            "_view_name": "HTMLView",
            "description": "",
            "description_tooltip": null,
            "layout": "IPY_MODEL_2f626baed48645d083e81b33c4d49550",
            "placeholder": "​",
            "style": "IPY_MODEL_0bcb34f8fa8141799d8f9ffaab6d40bd",
            "value": "100%"
          }
        },
        "b082c4ddd6124ef0be9dac3437c143d6": {
          "model_module": "@jupyter-widgets/controls",
          "model_module_version": "1.5.0",
          "model_name": "HTMLModel",
          "state": {
            "_dom_classes": [],
            "_model_module": "@jupyter-widgets/controls",
            "_model_module_version": "1.5.0",
            "_model_name": "HTMLModel",
            "_view_count": null,
            "_view_module": "@jupyter-widgets/controls",
            "_view_module_version": "1.5.0",
            "_view_name": "HTMLView",
            "description": "",
            "description_tooltip": null,
            "layout": "IPY_MODEL_67e98c453a3348bbabce6d36760a37fe",
            "placeholder": "​",
            "style": "IPY_MODEL_81ed245179d44827b2109b5455f9b8a9",
            "value": " 1.12G/1.12G [00:21&lt;00:00, 61.9MB/s]"
          }
        },
        "bf48a15e171b44369953ba5130c13850": {
          "model_module": "@jupyter-widgets/controls",
          "model_module_version": "1.5.0",
          "model_name": "HBoxModel",
          "state": {
            "_dom_classes": [],
            "_model_module": "@jupyter-widgets/controls",
            "_model_module_version": "1.5.0",
            "_model_name": "HBoxModel",
            "_view_count": null,
            "_view_module": "@jupyter-widgets/controls",
            "_view_module_version": "1.5.0",
            "_view_name": "HBoxView",
            "box_style": "",
            "children": [
              "IPY_MODEL_b04095fd5d2241bba394e652b571d8f2",
              "IPY_MODEL_28da132593e840c5b9715b41b498390b",
              "IPY_MODEL_a2aa951c16d649efb36c391281702e9b"
            ],
            "layout": "IPY_MODEL_c0848386114b49ae987fb3368dab264c"
          }
        },
        "c0848386114b49ae987fb3368dab264c": {
          "model_module": "@jupyter-widgets/base",
          "model_module_version": "1.2.0",
          "model_name": "LayoutModel",
          "state": {
            "_model_module": "@jupyter-widgets/base",
            "_model_module_version": "1.2.0",
            "_model_name": "LayoutModel",
            "_view_count": null,
            "_view_module": "@jupyter-widgets/base",
            "_view_module_version": "1.2.0",
            "_view_name": "LayoutView",
            "align_content": null,
            "align_items": null,
            "align_self": null,
            "border": null,
            "bottom": null,
            "display": null,
            "flex": null,
            "flex_flow": null,
            "grid_area": null,
            "grid_auto_columns": null,
            "grid_auto_flow": null,
            "grid_auto_rows": null,
            "grid_column": null,
            "grid_gap": null,
            "grid_row": null,
            "grid_template_areas": null,
            "grid_template_columns": null,
            "grid_template_rows": null,
            "height": null,
            "justify_content": null,
            "justify_items": null,
            "left": null,
            "margin": null,
            "max_height": null,
            "max_width": null,
            "min_height": null,
            "min_width": null,
            "object_fit": null,
            "object_position": null,
            "order": null,
            "overflow": null,
            "overflow_x": null,
            "overflow_y": null,
            "padding": null,
            "right": null,
            "top": null,
            "visibility": null,
            "width": null
          }
        },
        "c63817bdc284403ea930821994f82bb7": {
          "model_module": "@jupyter-widgets/controls",
          "model_module_version": "1.5.0",
          "model_name": "HTMLModel",
          "state": {
            "_dom_classes": [],
            "_model_module": "@jupyter-widgets/controls",
            "_model_module_version": "1.5.0",
            "_model_name": "HTMLModel",
            "_view_count": null,
            "_view_module": "@jupyter-widgets/controls",
            "_view_module_version": "1.5.0",
            "_view_name": "HTMLView",
            "description": "",
            "description_tooltip": null,
            "layout": "IPY_MODEL_21069832c95149a094f2167127314018",
            "placeholder": "​",
            "style": "IPY_MODEL_e62425b391164abbb770b1c55bc3196e",
            "value": "Downloading: 100%"
          }
        },
        "c7b2802ce8464d86a1e3193a79552f81": {
          "model_module": "@jupyter-widgets/base",
          "model_module_version": "1.2.0",
          "model_name": "LayoutModel",
          "state": {
            "_model_module": "@jupyter-widgets/base",
            "_model_module_version": "1.2.0",
            "_model_name": "LayoutModel",
            "_view_count": null,
            "_view_module": "@jupyter-widgets/base",
            "_view_module_version": "1.2.0",
            "_view_name": "LayoutView",
            "align_content": null,
            "align_items": null,
            "align_self": null,
            "border": null,
            "bottom": null,
            "display": null,
            "flex": null,
            "flex_flow": null,
            "grid_area": null,
            "grid_auto_columns": null,
            "grid_auto_flow": null,
            "grid_auto_rows": null,
            "grid_column": null,
            "grid_gap": null,
            "grid_row": null,
            "grid_template_areas": null,
            "grid_template_columns": null,
            "grid_template_rows": null,
            "height": null,
            "justify_content": null,
            "justify_items": null,
            "left": null,
            "margin": null,
            "max_height": null,
            "max_width": null,
            "min_height": null,
            "min_width": null,
            "object_fit": null,
            "object_position": null,
            "order": null,
            "overflow": null,
            "overflow_x": null,
            "overflow_y": null,
            "padding": null,
            "right": null,
            "top": null,
            "visibility": null,
            "width": null
          }
        },
        "ce29fe7be7dd4682956ca5c5d6cfb0d8": {
          "model_module": "@jupyter-widgets/controls",
          "model_module_version": "1.5.0",
          "model_name": "DescriptionStyleModel",
          "state": {
            "_model_module": "@jupyter-widgets/controls",
            "_model_module_version": "1.5.0",
            "_model_name": "DescriptionStyleModel",
            "_view_count": null,
            "_view_module": "@jupyter-widgets/base",
            "_view_module_version": "1.2.0",
            "_view_name": "StyleView",
            "description_width": ""
          }
        },
        "d6adff55ffca4edf8ff95767b3a4aaac": {
          "model_module": "@jupyter-widgets/controls",
          "model_module_version": "1.5.0",
          "model_name": "ProgressStyleModel",
          "state": {
            "_model_module": "@jupyter-widgets/controls",
            "_model_module_version": "1.5.0",
            "_model_name": "ProgressStyleModel",
            "_view_count": null,
            "_view_module": "@jupyter-widgets/base",
            "_view_module_version": "1.2.0",
            "_view_name": "StyleView",
            "bar_color": null,
            "description_width": ""
          }
        },
        "e3657e90e8c84a268a278bb28725021f": {
          "model_module": "@jupyter-widgets/base",
          "model_module_version": "1.2.0",
          "model_name": "LayoutModel",
          "state": {
            "_model_module": "@jupyter-widgets/base",
            "_model_module_version": "1.2.0",
            "_model_name": "LayoutModel",
            "_view_count": null,
            "_view_module": "@jupyter-widgets/base",
            "_view_module_version": "1.2.0",
            "_view_name": "LayoutView",
            "align_content": null,
            "align_items": null,
            "align_self": null,
            "border": null,
            "bottom": null,
            "display": null,
            "flex": null,
            "flex_flow": null,
            "grid_area": null,
            "grid_auto_columns": null,
            "grid_auto_flow": null,
            "grid_auto_rows": null,
            "grid_column": null,
            "grid_gap": null,
            "grid_row": null,
            "grid_template_areas": null,
            "grid_template_columns": null,
            "grid_template_rows": null,
            "height": null,
            "justify_content": null,
            "justify_items": null,
            "left": null,
            "margin": null,
            "max_height": null,
            "max_width": null,
            "min_height": null,
            "min_width": null,
            "object_fit": null,
            "object_position": null,
            "order": null,
            "overflow": null,
            "overflow_x": null,
            "overflow_y": null,
            "padding": null,
            "right": null,
            "top": null,
            "visibility": null,
            "width": null
          }
        },
        "e62425b391164abbb770b1c55bc3196e": {
          "model_module": "@jupyter-widgets/controls",
          "model_module_version": "1.5.0",
          "model_name": "DescriptionStyleModel",
          "state": {
            "_model_module": "@jupyter-widgets/controls",
            "_model_module_version": "1.5.0",
            "_model_name": "DescriptionStyleModel",
            "_view_count": null,
            "_view_module": "@jupyter-widgets/base",
            "_view_module_version": "1.2.0",
            "_view_name": "StyleView",
            "description_width": ""
          }
        },
        "f5e718a9971c4a86a94b6c11e13dc091": {
          "model_module": "@jupyter-widgets/controls",
          "model_module_version": "1.5.0",
          "model_name": "HBoxModel",
          "state": {
            "_dom_classes": [],
            "_model_module": "@jupyter-widgets/controls",
            "_model_module_version": "1.5.0",
            "_model_name": "HBoxModel",
            "_view_count": null,
            "_view_module": "@jupyter-widgets/controls",
            "_view_module_version": "1.5.0",
            "_view_name": "HBoxView",
            "box_style": "",
            "children": [
              "IPY_MODEL_08c560c2c716437a958c995e67d05d04",
              "IPY_MODEL_73f42c6cd0e849d79e919aef4ced4fa8",
              "IPY_MODEL_3983063ef5364eaa92ce2e5b005ca949"
            ],
            "layout": "IPY_MODEL_14ac667c1e824cbd8e6e030362b0ceec"
          }
        },
        "b4aa87cfed0247f4850ce150598d3660": {
          "model_module": "@jupyter-widgets/controls",
          "model_name": "HBoxModel",
          "model_module_version": "1.5.0",
          "state": {
            "_dom_classes": [],
            "_model_module": "@jupyter-widgets/controls",
            "_model_module_version": "1.5.0",
            "_model_name": "HBoxModel",
            "_view_count": null,
            "_view_module": "@jupyter-widgets/controls",
            "_view_module_version": "1.5.0",
            "_view_name": "HBoxView",
            "box_style": "",
            "children": [
              "IPY_MODEL_40e3bfcdf6d74ecea878b40389536807",
              "IPY_MODEL_781bf3ae237844759664a57f8320ddc2",
              "IPY_MODEL_8aa9086acd8b49dbbcb1cbb3dfb2da68"
            ],
            "layout": "IPY_MODEL_93f795a3b0254545acdb76623d29b8e1"
          }
        },
        "40e3bfcdf6d74ecea878b40389536807": {
          "model_module": "@jupyter-widgets/controls",
          "model_name": "HTMLModel",
          "model_module_version": "1.5.0",
          "state": {
            "_dom_classes": [],
            "_model_module": "@jupyter-widgets/controls",
            "_model_module_version": "1.5.0",
            "_model_name": "HTMLModel",
            "_view_count": null,
            "_view_module": "@jupyter-widgets/controls",
            "_view_module_version": "1.5.0",
            "_view_name": "HTMLView",
            "description": "",
            "description_tooltip": null,
            "layout": "IPY_MODEL_1c98982f4ec144ff9ae6d70c79fb0204",
            "placeholder": "​",
            "style": "IPY_MODEL_e0f9c652adba426fb4154351cad2aafa",
            "value": "100%"
          }
        },
        "781bf3ae237844759664a57f8320ddc2": {
          "model_module": "@jupyter-widgets/controls",
          "model_name": "FloatProgressModel",
          "model_module_version": "1.5.0",
          "state": {
            "_dom_classes": [],
            "_model_module": "@jupyter-widgets/controls",
            "_model_module_version": "1.5.0",
            "_model_name": "FloatProgressModel",
            "_view_count": null,
            "_view_module": "@jupyter-widgets/controls",
            "_view_module_version": "1.5.0",
            "_view_name": "ProgressView",
            "bar_style": "success",
            "description": "",
            "description_tooltip": null,
            "layout": "IPY_MODEL_c9b6b258075d43cca23d3a28f5d58bee",
            "max": 2,
            "min": 0,
            "orientation": "horizontal",
            "style": "IPY_MODEL_5c2ef2bea09946bb8a91b84e336316d2",
            "value": 2
          }
        },
        "8aa9086acd8b49dbbcb1cbb3dfb2da68": {
          "model_module": "@jupyter-widgets/controls",
          "model_name": "HTMLModel",
          "model_module_version": "1.5.0",
          "state": {
            "_dom_classes": [],
            "_model_module": "@jupyter-widgets/controls",
            "_model_module_version": "1.5.0",
            "_model_name": "HTMLModel",
            "_view_count": null,
            "_view_module": "@jupyter-widgets/controls",
            "_view_module_version": "1.5.0",
            "_view_name": "HTMLView",
            "description": "",
            "description_tooltip": null,
            "layout": "IPY_MODEL_9b2859770f6e47c7adbcf2bbb0291696",
            "placeholder": "​",
            "style": "IPY_MODEL_d535d4c8a5d944d49bee1b8d1fcb44a6",
            "value": " 2/2 [00:00&lt;00:00, 63.56it/s]"
          }
        },
        "93f795a3b0254545acdb76623d29b8e1": {
          "model_module": "@jupyter-widgets/base",
          "model_name": "LayoutModel",
          "model_module_version": "1.2.0",
          "state": {
            "_model_module": "@jupyter-widgets/base",
            "_model_module_version": "1.2.0",
            "_model_name": "LayoutModel",
            "_view_count": null,
            "_view_module": "@jupyter-widgets/base",
            "_view_module_version": "1.2.0",
            "_view_name": "LayoutView",
            "align_content": null,
            "align_items": null,
            "align_self": null,
            "border": null,
            "bottom": null,
            "display": null,
            "flex": null,
            "flex_flow": null,
            "grid_area": null,
            "grid_auto_columns": null,
            "grid_auto_flow": null,
            "grid_auto_rows": null,
            "grid_column": null,
            "grid_gap": null,
            "grid_row": null,
            "grid_template_areas": null,
            "grid_template_columns": null,
            "grid_template_rows": null,
            "height": null,
            "justify_content": null,
            "justify_items": null,
            "left": null,
            "margin": null,
            "max_height": null,
            "max_width": null,
            "min_height": null,
            "min_width": null,
            "object_fit": null,
            "object_position": null,
            "order": null,
            "overflow": null,
            "overflow_x": null,
            "overflow_y": null,
            "padding": null,
            "right": null,
            "top": null,
            "visibility": null,
            "width": null
          }
        },
        "1c98982f4ec144ff9ae6d70c79fb0204": {
          "model_module": "@jupyter-widgets/base",
          "model_name": "LayoutModel",
          "model_module_version": "1.2.0",
          "state": {
            "_model_module": "@jupyter-widgets/base",
            "_model_module_version": "1.2.0",
            "_model_name": "LayoutModel",
            "_view_count": null,
            "_view_module": "@jupyter-widgets/base",
            "_view_module_version": "1.2.0",
            "_view_name": "LayoutView",
            "align_content": null,
            "align_items": null,
            "align_self": null,
            "border": null,
            "bottom": null,
            "display": null,
            "flex": null,
            "flex_flow": null,
            "grid_area": null,
            "grid_auto_columns": null,
            "grid_auto_flow": null,
            "grid_auto_rows": null,
            "grid_column": null,
            "grid_gap": null,
            "grid_row": null,
            "grid_template_areas": null,
            "grid_template_columns": null,
            "grid_template_rows": null,
            "height": null,
            "justify_content": null,
            "justify_items": null,
            "left": null,
            "margin": null,
            "max_height": null,
            "max_width": null,
            "min_height": null,
            "min_width": null,
            "object_fit": null,
            "object_position": null,
            "order": null,
            "overflow": null,
            "overflow_x": null,
            "overflow_y": null,
            "padding": null,
            "right": null,
            "top": null,
            "visibility": null,
            "width": null
          }
        },
        "e0f9c652adba426fb4154351cad2aafa": {
          "model_module": "@jupyter-widgets/controls",
          "model_name": "DescriptionStyleModel",
          "model_module_version": "1.5.0",
          "state": {
            "_model_module": "@jupyter-widgets/controls",
            "_model_module_version": "1.5.0",
            "_model_name": "DescriptionStyleModel",
            "_view_count": null,
            "_view_module": "@jupyter-widgets/base",
            "_view_module_version": "1.2.0",
            "_view_name": "StyleView",
            "description_width": ""
          }
        },
        "c9b6b258075d43cca23d3a28f5d58bee": {
          "model_module": "@jupyter-widgets/base",
          "model_name": "LayoutModel",
          "model_module_version": "1.2.0",
          "state": {
            "_model_module": "@jupyter-widgets/base",
            "_model_module_version": "1.2.0",
            "_model_name": "LayoutModel",
            "_view_count": null,
            "_view_module": "@jupyter-widgets/base",
            "_view_module_version": "1.2.0",
            "_view_name": "LayoutView",
            "align_content": null,
            "align_items": null,
            "align_self": null,
            "border": null,
            "bottom": null,
            "display": null,
            "flex": null,
            "flex_flow": null,
            "grid_area": null,
            "grid_auto_columns": null,
            "grid_auto_flow": null,
            "grid_auto_rows": null,
            "grid_column": null,
            "grid_gap": null,
            "grid_row": null,
            "grid_template_areas": null,
            "grid_template_columns": null,
            "grid_template_rows": null,
            "height": null,
            "justify_content": null,
            "justify_items": null,
            "left": null,
            "margin": null,
            "max_height": null,
            "max_width": null,
            "min_height": null,
            "min_width": null,
            "object_fit": null,
            "object_position": null,
            "order": null,
            "overflow": null,
            "overflow_x": null,
            "overflow_y": null,
            "padding": null,
            "right": null,
            "top": null,
            "visibility": null,
            "width": null
          }
        },
        "5c2ef2bea09946bb8a91b84e336316d2": {
          "model_module": "@jupyter-widgets/controls",
          "model_name": "ProgressStyleModel",
          "model_module_version": "1.5.0",
          "state": {
            "_model_module": "@jupyter-widgets/controls",
            "_model_module_version": "1.5.0",
            "_model_name": "ProgressStyleModel",
            "_view_count": null,
            "_view_module": "@jupyter-widgets/base",
            "_view_module_version": "1.2.0",
            "_view_name": "StyleView",
            "bar_color": null,
            "description_width": ""
          }
        },
        "9b2859770f6e47c7adbcf2bbb0291696": {
          "model_module": "@jupyter-widgets/base",
          "model_name": "LayoutModel",
          "model_module_version": "1.2.0",
          "state": {
            "_model_module": "@jupyter-widgets/base",
            "_model_module_version": "1.2.0",
            "_model_name": "LayoutModel",
            "_view_count": null,
            "_view_module": "@jupyter-widgets/base",
            "_view_module_version": "1.2.0",
            "_view_name": "LayoutView",
            "align_content": null,
            "align_items": null,
            "align_self": null,
            "border": null,
            "bottom": null,
            "display": null,
            "flex": null,
            "flex_flow": null,
            "grid_area": null,
            "grid_auto_columns": null,
            "grid_auto_flow": null,
            "grid_auto_rows": null,
            "grid_column": null,
            "grid_gap": null,
            "grid_row": null,
            "grid_template_areas": null,
            "grid_template_columns": null,
            "grid_template_rows": null,
            "height": null,
            "justify_content": null,
            "justify_items": null,
            "left": null,
            "margin": null,
            "max_height": null,
            "max_width": null,
            "min_height": null,
            "min_width": null,
            "object_fit": null,
            "object_position": null,
            "order": null,
            "overflow": null,
            "overflow_x": null,
            "overflow_y": null,
            "padding": null,
            "right": null,
            "top": null,
            "visibility": null,
            "width": null
          }
        },
        "d535d4c8a5d944d49bee1b8d1fcb44a6": {
          "model_module": "@jupyter-widgets/controls",
          "model_name": "DescriptionStyleModel",
          "model_module_version": "1.5.0",
          "state": {
            "_model_module": "@jupyter-widgets/controls",
            "_model_module_version": "1.5.0",
            "_model_name": "DescriptionStyleModel",
            "_view_count": null,
            "_view_module": "@jupyter-widgets/base",
            "_view_module_version": "1.2.0",
            "_view_name": "StyleView",
            "description_width": ""
          }
        }
      }
    }
  },
  "nbformat": 4,
  "nbformat_minor": 0
}