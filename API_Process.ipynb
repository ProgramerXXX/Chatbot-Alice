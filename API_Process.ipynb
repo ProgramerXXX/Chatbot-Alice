{
  "cells": [
    {
      "cell_type": "code",
      "execution_count": null,
      "metadata": {
        "id": "u9gz16a-oY2i"
      },
      "outputs": [],
      "source": [
        "!pip install fastapi nest-asyncio pyngrok uvicorn\n",
        "!pip -q install transformers\n",
        "!pip -q install datasets\n",
        "!pip -q install simpletransformers\n",
        "!pip -q install pythainlp\n",
        "!pip install beautifulsoup4\n",
        "!pip install tltk"
      ]
    },
    {
      "cell_type": "code",
      "execution_count": 2,
      "metadata": {
        "colab": {
          "base_uri": "https://localhost:8080/"
        },
        "id": "dneUYmd9Rzzc",
        "outputId": "82f01616-78be-4ff5-c09c-180fe3aa49c3"
      },
      "outputs": [
        {
          "name": "stdout",
          "output_type": "stream",
          "text": [
            "Mounted at /content/drive\n"
          ]
        }
      ],
      "source": [
        "from google.colab import drive\n",
        "drive.mount('/content/drive')"
      ]
    },
    {
      "cell_type": "code",
      "execution_count": 3,
      "metadata": {
        "id": "LzQa5ZfB-P_S"
      },
      "outputs": [],
      "source": [
        "from pythainlp.tag.tltk import get_ner\n",
        "import requests\n",
        "from bs4 import BeautifulSoup\n",
        "from simpletransformers.question_answering import QuestionAnsweringModel\n",
        "from pythainlp.tokenize import word_tokenize\n",
        "import numpy as np \n",
        "bert = QuestionAnsweringModel(\"xlmroberta\", \" {Path/Model} \")\n",
        "\n",
        "def Find_Keyword(data):\n",
        "    keyword = []\n",
        "    ner = get_ner(data)\n",
        "    print(ner)\n",
        "    for i in ner:\n",
        "        if i[1] == 'NOUN' or i[1] == 'PROPN' :\n",
        "            keyword.append(i[0])\n",
        "    return keyword\n",
        "\n",
        "\n",
        "def search(txt):\n",
        "    url = f\"https://th.wikipedia.org/wiki/{txt}\"\n",
        " \n",
        "    # Fetch URL Content\n",
        "    r = requests.get(url)\n",
        "    \n",
        "    # Get body content\n",
        "    soup = BeautifulSoup(r.text,'html.parser').select('body')[0]\n",
        "    \n",
        "    # Initialize variable\n",
        "    paragraphs = []\n",
        "    heading = []\n",
        "    remaining_content = []\n",
        "    \n",
        "    # Iterate through all tags\n",
        "    for tag in soup.find_all():\n",
        "        \n",
        "        # Check each tag name\n",
        "        # For Paragraph use p tag\n",
        "        if tag.name==\"p\":\n",
        "        \n",
        "            # use text for fetch the content inside p tag\n",
        "            paragraphs.append(tag.text)\n",
        "    paraGr = ''\n",
        "    contextL = []\n",
        "    for i in paragraphs:\n",
        "        x = x+i.strip()\n",
        "    # x = x.join(word_tokenize(x))\n",
        "    ls = [77,1000,2000,3000,3500,4000,4500,5000,5500,6000]\n",
        "    for i in range(len(ls)-1):\n",
        "      contextL.append(paraGr[ls[i]:ls[i+1]])\n",
        "    return contextL\n",
        "\n",
        "def QA(data,qas):\n",
        "  try:\n",
        "    datals = []\n",
        "    b_answer = []\n",
        "    b_idx = []\n",
        "    ls_check = []\n",
        "    prob_check =[]\n",
        "    txt_check =[]\n",
        "    datas = data\n",
        "    ques = qas\n",
        "    for k in datas:\n",
        "      for l in k:\n",
        "          if l != '':\n",
        "              \n",
        "              question, text = ques, l\n",
        "              print(question)\n",
        "              print(text)\n",
        "              input = [\n",
        "                      {\n",
        "                          \"context\": text,\n",
        "                          \"qas\": [\n",
        "                              {\n",
        "                                  \"question\": question,\n",
        "                                  \"id\": \"0\",\n",
        "                              }\n",
        "                          ],\n",
        "                      }\n",
        "                  ]\n",
        "              txt, pb = bert.predict(input)\n",
        "              datals.append(txt)\n",
        "              datals.append(pb)\n",
        "              print(txt)\n",
        "              print(pb)\n",
        "    for i in range(len(datals),2):\n",
        "        if datals[i][0]['answer'][0] != '':\n",
        "            ls_check.append(datals[i][0]['answer'][0])\n",
        "\n",
        "    if len(ls_check) == 1:\n",
        "            return ls_check[0]\n",
        "    \n",
        "    else:\n",
        "        \n",
        "    \n",
        "      if len(ls_check) > 1:\n",
        "          for j in range(1,len(datals),2):\n",
        "              prob_check.append(datals[j][0]['probability'][0])\n",
        "              txt_check.append(datals[j-1][0]['answer'][0])\n",
        "          max_id = np.argmax(prob_check)\n",
        "          ls_check.append(txt_check[max_id])\n",
        "          return ls_check[-1]\n",
        "          \n",
        "\n",
        "      if len(ls_check) < 1:\n",
        "          for j in range(1,len(datals),2):\n",
        "            if len(datals[j][0]['probability']) > 1:\n",
        "              prob_check.append(datals[j][0]['probability'][1])\n",
        "              txt_check.append(datals[j-1][0]['answer'][1])\n",
        "\n",
        "          if prob_check != []:\n",
        "            max_id = np.argmax(prob_check)\n",
        "            ls_check.append(txt_check[max_id])\n",
        "            b_answer.append(ls_check[-1])\n",
        "            b_idx.append(prob_check[max_id])\n",
        "\n",
        "          else:\n",
        "            return 'alice ไม่มีข้อมูลมากพอจะตอบคำถามนี้ได้ค่ะ'\n",
        "      idx = np.argmax(b_idx)\n",
        "      ans = b_answer[idx]\n",
        "      return ans\n",
        "\n",
        "  except:\n",
        "    return 'ขอภัย Alice ไม่สามารถหาคำตอบได้'"
      ]
    },
    {
      "cell_type": "code",
      "execution_count": 4,
      "metadata": {
        "id": "Q0Ouo6TDopwL"
      },
      "outputs": [],
      "source": [
        "from fastapi import FastAPI\n",
        "from pydantic import BaseModel\n",
        "import json\n",
        "import numpy as np \n",
        "\n",
        "app = FastAPI()\n",
        "\n",
        "class UserRequestIn(BaseModel):\n",
        "    text: str\n",
        "\n",
        "@app.post(\"/correctText\")\n",
        "\n",
        "\n",
        "def correct_text(user_request_in: UserRequestIn):\n",
        "  try:\n",
        "    txt_qas = user_request_in.text\n",
        "    x = Find_Keyword(txt_qas)\n",
        "    x.append(txt_qas)\n",
        "    # x = x.split(',')\n",
        "    # x = list(x)\n",
        "    ques = x[-1]\n",
        "    print(ques)\n",
        "    datas = []\n",
        "\n",
        "    for j in x[:-1]:\n",
        "        txt = search(j)\n",
        "        datas.append(txt)\n",
        "\n",
        "    ans = QA(datas,ques)\n",
        "    \n",
        "    return ans\n",
        "  except:\n",
        "    return 'ขออภัย alice ไม่พบคำตอบ'\n",
        " \n",
        "      \n"
      ]
    },
    {
      "cell_type": "code",
      "execution_count": 5,
      "metadata": {
        "colab": {
          "base_uri": "https://localhost:8080/"
        },
        "id": "752k3bpuo0A6",
        "outputId": "e39d4d5b-d49c-493b-ef48-7f4bbd4112b9"
      },
      "outputs": [
        {
          "name": "stderr",
          "output_type": "stream",
          "text": [
            "INFO:     Shutting down\n",
            "INFO:uvicorn.error:Shutting down\n",
            "INFO:     Waiting for application shutdown.\n",
            "INFO:uvicorn.error:Waiting for application shutdown.\n",
            "INFO:     Application shutdown complete.\n",
            "INFO:uvicorn.error:Application shutdown complete.\n",
            "INFO:     Finished server process [78]\n",
            "INFO:uvicorn.error:Finished server process [78]\n"
          ]
        }
      ],
      "source": [
        "import nest_asyncio\n",
        "from pyngrok import ngrok\n",
        "import uvicorn\n",
        "\n",
        "ngrok_tunnel = ngrok.connect(8000)\n",
        "print('Public URL:', ngrok_tunnel.public_url)\n",
        "nest_asyncio.apply()\n",
        "uvicorn.run(app, port=8000)"
      ]
    }
  ],
  "metadata": {
    "accelerator": "GPU",
    "colab": {
      "collapsed_sections": [],
      "machine_shape": "hm",
      "name": "API_QA_v2.ipynb",
      "provenance": []
    },
    "gpuClass": "standard",
    "kernelspec": {
      "display_name": "Python 3.9.4 64-bit",
      "language": "python",
      "name": "python3"
    },
    "language_info": {
      "name": "python",
      "version": "3.9.4"
    },
    "vscode": {
      "interpreter": {
        "hash": "0d591c6e422414675974e227c13f5382000c440fedd3c5006ef2be5d887f0ba7"
      }
    }
  },
  "nbformat": 4,
  "nbformat_minor": 0
}
